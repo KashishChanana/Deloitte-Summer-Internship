{
 "cells": [
  {
   "cell_type": "code",
   "execution_count": 26,
   "metadata": {},
   "outputs": [],
   "source": [
    "import tweepy\n",
    "import pandas as pd"
   ]
  },
  {
   "cell_type": "code",
   "execution_count": 18,
   "metadata": {},
   "outputs": [],
   "source": [
    "consumer_key=\"QT3XkH1TLawSuB2YniZMPmzlj\"\n",
    "consumer_secret=\"0CJ2qAiFmUXf1M1QO1U6M4N1lNb1AyunInqCJW8oqbms1lhnJO\"\n",
    "access_key=\"1005767036553707525-toQxdu8bPEEdASwh0yZ5TuYfDsqF1E\"\n",
    "access_secret=\"kiWbKHIRdPe7gcLifMLG8mH57dy8rnALsgKLOfN4CDeHZ\""
   ]
  },
  {
   "cell_type": "code",
   "execution_count": 19,
   "metadata": {},
   "outputs": [],
   "source": [
    "def getTweets(username):\n",
    "    \n",
    "    auth= tweepy.OAuthHandler(consumer_key, consumer_secret)\n",
    "    auth.set_access_token(access_key, access_secret)\n",
    "    \n",
    "    api=tweepy.API(auth)\n",
    "    number_of_tweets=100\n",
    "    tweets = api.user_timeline(screen_name=username)\n",
    "    \n",
    "    tmp=[]\n",
    "    \n",
    "    tweets_for_csv = [tweet.text for tweet in tweets] \n",
    "    for j in tweets_for_csv:\n",
    "        tmp.append(j) \n",
    "    return tmp\n",
    "    "
   ]
  },
  {
   "cell_type": "code",
   "execution_count": 23,
   "metadata": {},
   "outputs": [
    {
     "name": "stdout",
     "output_type": "stream",
     "text": [
      "[u'Ever had nachos drunk on tequila? The WILD WEST NACHOS is the highlight of our Taste Of Mexico menu, and miss it, y\\u2026 https://t.co/Vnr8ovz5Cc', u'Get your feet tapping to chartbuster Bollywood tracks this Friday! DVJ Shaan is gonna take the beats to a filmy tri\\u2026 https://t.co/jWD3Tm2S7f', u'Some of our favorite words - CHOCOLATE, TOMATO and AVOCADO - all originated in Nahuatl - among the traditional, ind\\u2026 https://t.co/AxgPNlXzbK', u'Loaded, crispy nachos drunk on tequila is here! Check out the spicy, tangy and cheesy flavors dipped in Red Hot Teq\\u2026 https://t.co/AUIOO5C8d6', u'That warm jittery feeling and butterflies in your stomach is a call for celebration, indeed! Treat yourself to a th\\u2026 https://t.co/WjySOSHcPm', u'We\\u2019ve got a fix for chill everyday with our Happy Hours starting only @\\u20b9100! So why wait for the weekend? ;)\\n*Avail\\u2026 https://t.co/Bd7ry06JgB', u'Indulge in the sufi and acoustic music with Band of Bandagi and Tochi Raina. The voice behind popular Bollywood tra\\u2026 https://t.co/lSS93erCck', u'Get head-banging to the high energy rock notes by The Radical Array Project this Thursday!\\nBook your tickets here:\\u2026 https://t.co/IDWDY96yHi', u'Catch the sounds of Afro-Cuban music with Kenishaa\\u2019s powerful vocals this Thursday.\\nBook your tickets on\\u2026 https://t.co/BcpO4kyEV0', u'This Thursday, Fossils is creating their rock magic on the Hard Rock Cafe stage! \\nBook your tickets here:\\u2026 https://t.co/iL33kdOdTC', u'It\\u2019s a tribute to Classic Rock with Girish And The Chronicles this Thursday! Watch them perform the legendary track\\u2026 https://t.co/hlqtwe6wmJ', u'Watch 2Blue perform a live Classic Rock tribute to AC/DC and Guns N\\u2019 Roses this Thursday! It\\u2019s the highway to hell,\\u2026 https://t.co/MvFceDJzv4', u'The Japanese word for \\u2018sunlight that filters through tree leaves\\u2019, Komorebi is all set to play their Electronic not\\u2026 https://t.co/hW54tHLnqf', u'Get ready for some popular Western Music Hits, with occasional surprise bursts of trending Bollywood Hits and of co\\u2026 https://t.co/xqhChOlvJ3', u\"Bengaluru, @GATCtheband performs live this Thursday! Yes, they're doing a Guns N Roses special and it's going to be\\u2026 https://t.co/YhnjRBUccV\", u'RT @ArtistAloud: 2 Days To Go!\\n@Tochiraina &amp; #BandOfBandagi will be performing LIVE at @HRCIndia, Pune on 19th July - https://t.co/2auXMv78\\u2026', u'Take a break from all that work stress and unwind and unbend tonight! We\\u2019re launching #UnbendTuesdays with extended\\u2026 https://t.co/yc7TawPiWI', u'Weekdays are gonna get a lot more fun with #UnBendTuesdays! We\\u2019re here with extended Happy Hours starting @ \\u20b9100, a\\u2026 https://t.co/rGXyANFBzF', u'RT @BandEdgeIndia: Gig Alert for Mumbaikars: @fossilsmusic Live at @HRCIndia Worli, on this Thursday. Do drop in.\\nTicket at https://t.co/gq\\u2026', u'RT @2Bluehimself: I invite you to my tribute to @ACDC and @GunsNRoses at @HRCIndia Gurgaon on Thursday, July 19 at 8:30 pm.\\n\\nTickets are av\\u2026']\n"
     ]
    }
   ],
   "source": [
    "Tweets=[]\n",
    "\n",
    "tweets=getTweets(\"HRCIndia\")\n",
    "print (tweets)\n",
    "for tweet in tweets:\n",
    "    Tweets.append(tweet)"
   ]
  },
  {
   "cell_type": "code",
   "execution_count": 49,
   "metadata": {},
   "outputs": [],
   "source": [
    "def gethashtags(username):\n",
    "    \n",
    "    auth= tweepy.OAuthHandler(consumer_key, consumer_secret)\n",
    "    auth.set_access_token(access_key, access_secret)\n",
    "    \n",
    "    api=tweepy.API(auth)\n",
    "    number_of_tweets=500\n",
    "    tweets = api.user_timeline(screen_name=username)\n",
    "    ht=[]\n",
    "    for tweet in tweepy.Cursor(api.search,q=\"#hardrockcafe\",count=200,lang=\"en\",since=\"2018-01-01\").items():\n",
    "        ht.append(tweet.text)\n",
    "    return ht \n",
    " \n",
    "    "
   ]
  },
  {
   "cell_type": "code",
   "execution_count": 50,
   "metadata": {},
   "outputs": [
    {
     "name": "stdout",
     "output_type": "stream",
     "text": [
      "[u'RT @Bigkanvas: Its a #sufi night with #bandofbandagi at #hardrockcafe #pune featuring the very talented @IamVANIOfficial\\n#PlaybackSinger \\n#\\u2026', u'RT @Bigkanvas: Its a #sufi night with #bandofbandagi at #hardrockcafe #pune featuring the very talented @IamVANIOfficial\\n#PlaybackSinger \\n#\\u2026', u'Its a #sufi night with #bandofbandagi at #hardrockcafe #pune featuring the very talented @IamVANIOfficial\\u2026 https://t.co/LEo8bhgdyr', u'@slash prince @kingbobbybrown  #hardrockcaf\\xe9 https://t.co/RtDlNPUWQk', u\"#travel  from #southstreet #lorenzos #pizza to #atlanticcity #hardrockcafe hardrockhcac \\nAnd I'm not going to bed a\\u2026 https://t.co/bp5wIX3nU9\", u'RT @SparshTheBand: @hrcpune you were amazing \\u2764\\ufe0f\\n.\\n.\\n.\\n.\\n.\\n.\\n#sparshtheband #popband #popculture #hardrockcafe #pune #kepl', u\"RT @carvinjones: World renowned blues rock icon Carvin Jones is coming to Hard Rock Cafe Nashville with 'The Ultimate Guitar Experience of\\u2026\", u\"Some fresh clothes, some fresh music... It's all about enjoying the life! \\U0001f334\\u2600 Visit our rockshop and look out our ne\\u2026 https://t.co/6yYw8M3Ffb\", u'I know y\\u2019all were waiting on this. \\U0001f481\\U0001f3fc\\u200d\\u2640\\ufe0f\\U0001f602\\U0001f92a\\U0001f354 Sound on for the video. Perfect. Song. \\U0001f601 #burger #hamburger #everytime\\u2026 https://t.co/xJOOmDrpwH', u\"World renowned blues rock icon Carvin Jones is coming to Hard Rock Cafe Nashville with 'The Ultimate Guitar Experie\\u2026 https://t.co/BuQ1jA7p4e\", u'RT @FollowNoOneBand: IT MEANS A LOT COMIN\\u2019 FROM THESE GUYS\\n\\n\\U0001f4af @markwinder8\\n\\n\\U0001f4af @Lolz1975Tilly\\n\\n\\U0001f4af@HAGO_ROCK\\n\\n\\U0001f4af @LoriLeeA1961\\n\\n\\U0001f4af @USBandsinc\\u2026', u'More from Hard Rock Cafe Moscow, man, so disappointing that I was misinformed about St. Petersburg HRC being closed\\u2026 https://t.co/pnWvB1FNXx', u'Klickbeats @sammy_klickbeats @gwin_klickbeats with the legend @djjimmyjatt #MrLoveTheAlbum @youngskales\\u2026 https://t.co/Qv7M77mKrC', u'RT @jarjeab: This is love #\\u0e40\\u0e1b\\u0e4a\\u0e01\\u0e1c\\u0e25\\u0e34\\u0e15\\u0e42\\u0e0a\\u0e04 #PeckPailt #IMOK #HardRockCafe https://t.co/brFvHDbrFK', u\"It's not a #vacation without a quick stop at #HardRockCafe #London https://t.co/s5P1AcHP6s\", u'RT @jarjeab: This is love #\\u0e40\\u0e1b\\u0e4a\\u0e01\\u0e1c\\u0e25\\u0e34\\u0e15\\u0e42\\u0e0a\\u0e04 #PeckPailt #IMOK #HardRockCafe https://t.co/brFvHDbrFK', u'RT @jarjeab: This is love #\\u0e40\\u0e1b\\u0e4a\\u0e01\\u0e1c\\u0e25\\u0e34\\u0e15\\u0e42\\u0e0a\\u0e04 #PeckPailt #IMOK #HardRockCafe https://t.co/brFvHDbrFK', u'Universal Studios Hollywood \\U0001f30e\\U0001f3ac - Hard Rock Cafe \\U0001f354\\U0001f3b8 #universalstudioshollywood #citywalk #burgers #hardrockcafe\\u2026 https://t.co/O0tUew0Hu1', u'This is love #\\u0e40\\u0e1b\\u0e4a\\u0e01\\u0e1c\\u0e25\\u0e34\\u0e15\\u0e42\\u0e0a\\u0e04 #PeckPailt #IMOK #HardRockCafe https://t.co/brFvHDbrFK', u'The Doors at original #HardRockCafe in #LosAngeles, CA, 1969. photo by Henry Diltz #TheDoors https://t.co/XDwjk10aPf (RT @RockNRollPics )', u'RT @SaraTers: Little Lavinia meets Little Steven ... yeaaaah Baby ! #littlesteven #stevie #stevevanzandt #yeahbaby #hardrock #hardrockcafe\\u2026', u'RT @SomruedeeC: From bird\\u2019s eye view, I still know this is love. \\u263a\\ufe0f #\\u0e40\\u0e1b\\u0e4a\\u0e01\\u0e1c\\u0e25\\u0e34\\u0e15\\u0e42\\u0e0a\\u0e04 #HardrockCafe #hardrockbangkok https://t.co/ydbcp09IEN', u'RT @FollowNoOneBand: IT MEANS A LOT COMIN\\u2019 FROM THESE GUYS\\n\\n\\U0001f4af @markwinder8\\n\\n\\U0001f4af @Lolz1975Tilly\\n\\n\\U0001f4af@HAGO_ROCK\\n\\n\\U0001f4af @LoriLeeA1961\\n\\n\\U0001f4af @USBandsinc\\u2026', u'From bird\\u2019s eye view, I still know this is love. \\u263a\\ufe0f #\\u0e40\\u0e1b\\u0e4a\\u0e01\\u0e1c\\u0e25\\u0e34\\u0e15\\u0e42\\u0e0a\\u0e04 #HardrockCafe #hardrockbangkok https://t.co/ydbcp09IEN', u'RT @SomruedeeC: From 2nd floor with iPhone at #hardrockbangkok #hardrockcafe #\\u0e40\\u0e1b\\u0e4a\\u0e01\\u0e1c\\u0e25\\u0e34\\u0e15\\u0e42\\u0e0a\\u0e04 https://t.co/00Lqah3znD', u'RT @SomruedeeC: From 2nd floor with iPhone at #hardrockbangkok #hardrockcafe #\\u0e40\\u0e1b\\u0e4a\\u0e01\\u0e1c\\u0e25\\u0e34\\u0e15\\u0e42\\u0e0a\\u0e04 https://t.co/00Lqah3znD', u'Life is a combination of magic &amp; pasta  \\n\\n\\u2018 Taste of Mexico \\u2018 festival @hardrockin  \\n\\n #TasteofMexico #HardRockCafe\\u2026 https://t.co/2lP6WUttoe', u'From 2nd floor with iPhone at #hardrockbangkok #hardrockcafe #\\u0e40\\u0e1b\\u0e4a\\u0e01\\u0e1c\\u0e25\\u0e34\\u0e15\\u0e42\\u0e0a\\u0e04 https://t.co/00Lqah3znD', u'RT @FollowNoOneBand: IT MEANS A LOT COMIN\\u2019 FROM THESE GUYS\\n\\n\\U0001f4af @markwinder8\\n\\n\\U0001f4af @Lolz1975Tilly\\n\\n\\U0001f4af@HAGO_ROCK\\n\\n\\U0001f4af @LoriLeeA1961\\n\\n\\U0001f4af @USBandsinc\\u2026', u'Atlanta I\\u2019m here let\\u2019s go!!! Bout to celebrate the big bro @RealByronCage \\u203c\\ufe0f#gmwa #hardrockcafe #kingdomlife\\u2026 https://t.co/KLarXl4fvP', u'Atlanta I\\u2019m here let\\u2019s go!!! Bout to celebrate the big bro @RealByronCage \\u203c\\ufe0f#gmwa #hardrockcafe #kingdomlife\\u2026 https://t.co/vTlOV9j1tC', u'RT @FollowNoOneBand: IT MEANS A LOT COMIN\\u2019 FROM THESE GUYS\\n\\n\\U0001f4af @markwinder8\\n\\n\\U0001f4af @Lolz1975Tilly\\n\\n\\U0001f4af@HAGO_ROCK\\n\\n\\U0001f4af @LoriLeeA1961\\n\\n\\U0001f4af @USBandsinc\\u2026', u'IT MEANS A LOT COMIN\\u2019 FROM THESE GUYS\\n\\n\\U0001f4af @markwinder8\\n\\n\\U0001f4af @Lolz1975Tilly\\n\\n\\U0001f4af@HAGO_ROCK\\n\\n\\U0001f4af @LoriLeeA1961\\n\\n\\U0001f4af\\u2026 https://t.co/RFaIGwO5t3', u'I want this as my ceiling! #myhardrock #hardrockcafe #barcelona @ Hard Rock Cafe Barcelona https://t.co/qCDgdJrXEX', u'RT @byH_Leitenbauer: \\U0001f91f#HubertLeitenbauer \\U0001f91f\\nFounder #PranaEnergyTherapy\\xae\\nDesigner Luxury #SpiritualJewelry\\n\\U0001f3b8#HardRockCafeMallorca \\U0001f3a4#HardRock\\u2026', u'RT @byH_Leitenbauer: \\U0001f91f#HubertLeitenbauer \\U0001f91f\\nFounder #PranaEnergyTherapy\\xae\\nDesigner Luxury #SpiritualJewelry\\n\\U0001f3b8#HardRockCafeMallorca #HardrockC\\u2026', u'RT @byH_Leitenbauer: @CattMcCreary @BodManip @HardRockAtlanta @NashvilleLife Hi Catt @CattMcCreary \\U0001f91f #wow - You a #SuperStar -\\n#Love Your M\\u2026', u'Brokie [my finger] and I enjoyed honoring @neilyville at the #HardrockCafe yesterday. It was great seeing all my\\u2026 https://t.co/H9IXYh9itW', u'RT @byH_Leitenbauer: @CattMcCreary @BodManip @HardRockAtlanta @NashvilleLife Hi Catt @CattMcCreary \\U0001f91f #wow - You a #SuperStar -\\n#Love Your M\\u2026', u'When on travel, make sure it`s with that special \"Hard Rock Style\" - check out our Shop for #trendy #fashion &amp;\\u2026 https://t.co/cKU56bvuOt', u\"Still now I don't understand why is Hard Rock Cafe is so famous? Maybe from its t-shirt? \\n\\n#hardrockcafe #melaka\\u2026 https://t.co/ZFMKkIWr6r\", u'RT @SaraTers: Little Lavinia meets Little Steven ... yeaaaah Baby ! #littlesteven #stevie #stevevanzandt #yeahbaby #hardrock #hardrockcafe\\u2026', u'RT @SaraTers: Little Lavinia meets Little Steven ... yeaaaah Baby ! #littlesteven #stevie #stevevanzandt #yeahbaby #hardrock #hardrockcafe\\u2026', u'RT @SaraTers: Little Lavinia meets Little Steven ... yeaaaah Baby ! #littlesteven #stevie #stevevanzandt #yeahbaby #hardrock #hardrockcafe\\u2026', u'RT @TyusGabriel: PRAISE BREAK @ @hardrockatlanta.... The Gospel at The Hard Rock\\n\\u2022\\n\\u2022\\n#praisebreak #gmwa18 #gmwa #dance #gmwaweek #atlanta #\\u2026', u'Atlanta &amp; South Carolina I\\u2019m on the way!!! #gmwa #hardrockcafe #radiorun #atlanta #aiken #augusta #columbia\\u2026 https://t.co/Og6VCxSV0P', u'Atlanta &amp; South Carolina I\\u2019m on the way!!! #gmwa #hardrockcafe #radiorun #atlanta #aiken #augusta #columbia\\u2026 https://t.co/OO9B1XVWMY', u'Vegas baby! 5nt Hard Rock Hotel stay from \\xa3476pp - incl. Virgin flights &amp; bags (2019 dates) https://t.co/KMqjCMDVuz\\u2026 https://t.co/c1RCVzjP9x', u\"Don't #forget to #get your #dancing shoes ...i am #waiting for you on 28th of July 2018 #Saturday ...in\\u2026 https://t.co/HIfYr8Lm4S\", u'RT @tosentti: Like a complete unknown / Like a rolling stone? #hardrockcafe #Helsinki https://t.co/RPTnebPnCT', u'Like a complete unknown / Like a rolling stone? #hardrockcafe #Helsinki https://t.co/RPTnebPnCT', u\"RT @rua_royal: Don't #forget to #get your #dancing shoes ...i am #waiting for you on 28th of July 2018 #Saturday ...in #HardRockCafe Buchar\\u2026\", u'RT @SaraTers: Little Lavinia meets Little Steven ... yeaaaah Baby ! #littlesteven #stevie #stevevanzandt #yeahbaby #hardrock #hardrockcafe\\u2026', u\"So good I had to share! Check out all the items I'm loving on @Poshmarkapp from @URSecretCloset #poshmark #fashion\\u2026 https://t.co/4txja5DFNu\", u'RT @GreatestFinds: Having a cool party? Get these hard rock cafe glasses and stand out! #HardRockCafe #party #glasses #BBQ  https://t.co/98\\u2026', u\"Madboy/Mink release new sound with new EP, 'P.E.S.F.'\\nhttps://t.co/CmkpaD1Ejt\\n@MadboyMink #soundcloud #madboymink\\u2026 https://t.co/685hCmUGrB\", u'PRAISE BREAK @ @hardrockatlanta.... The Gospel at The Hard Rock\\n\\u2022\\n\\u2022\\n#praisebreak #gmwa18 #gmwa #dance #gmwaweek\\u2026 https://t.co/G8ixiOVs5K', u\"RT @carvinjones: World renowned blues rock icon Carvin Jones is coming to Hard Rock Cafe Nashville with 'The Ultimate Guitar Experience of\\u2026\", u'Our last supper in New York done right \\U0001f60b #HardRockCafe #HardRockCafeNYC #HardRock #NewYork #NewYorkCity #NYC\\u2026 https://t.co/CjGPWP8ACE', u'RT @JonelleSleek: The Doors at original #HardRockCafe in #LosAngeles, CA, 1969.\\nphoto by Henry Diltz #TheDoors https://t.co/jbBW0A6kOD via\\u2026', u'RT @byH_Leitenbauer: @CattMcCreary @BodManip @HardRockAtlanta @NashvilleLife Hi Catt @CattMcCreary \\U0001f91f #wow - You a #SuperStar -\\n#Love Your M\\u2026', u\"RT @hrc_sanantonio: We're traveling across the pond to the motherland of Hard Rock's existence, @HardRockLondon ! Standing on Old Park Lane\\u2026\", u\"World renowned blues rock icon Carvin Jones is coming to Hard Rock Cafe Nashville with 'The Ultimate Guitar Experie\\u2026 https://t.co/S93Y7tLhzU\", u'@EMA_Airport It was weird to think I was there 2 weeks ago. Great for shopping and culture aswell as #HardRockCafe', u'#hardrockcafe @hardrockorlando #universalorlandoresort @ Hard Rock Cafe Orlando https://t.co/0TAQq9AbAT', u'Drinks at Hard Rock Cafe Oslo a couple of weeks ago! https://t.co/7QUw0yJ9UN #HardRock #HardrockCafe\\u2026 https://t.co/LNpuuYg4hE', u'RT @SaraTers: Little Lavinia meets Little Steven ... yeaaaah Baby ! #littlesteven #stevie #stevevanzandt #yeahbaby #hardrock #hardrockcafe\\u2026', u'Your the cheese to my Nachos \\n\\n#HardRocKCafe #HardRockIndia\\n#TasteofMexico \\n#TheHungryShetty #ShotOnIPhoneX \\n\\n#food\\u2026 https://t.co/IbnWk9unGQ', u'Rock and Roll. #hardrockcafebrussels #hardrockcafe #Brussels #belgium #iphone #apple #iphone7plus\\u2026 https://t.co/9O0BaR3FXr', u\"RT @hrc_sanantonio: We're traveling across the pond to the motherland of Hard Rock's existence, @HardRockLondon ! Standing on Old Park Lane\\u2026\", u'KIDS eat FREE on Tuesdays here at Hard Rock Cafe Montego Bay!\\n\\n#thisishard #HardRockCafe #HardRockCafeMobay https://t.co/jMyY1wtPR9', u\"We're traveling across the pond to the motherland of Hard Rock's existence, @HardRockLondon ! Standing on Old Park\\u2026 https://t.co/xPgduv2b6p\", u\"Don't #forget to #get your #dancing shoes ...i am #waiting for you on 28th of July 2018 #Saturday ...in\\u2026 https://t.co/0CzTmZxp2k\", u'Garage of The Week: 901 E St!!! Perfect location right near some food and shopping. 901 E St is next to both Hard R\\u2026 https://t.co/l1PSkoUr3b', u'Shit the microphone is being passed around now and the bartender is singing. #hardrockcafe #Hangzhou #china', u\"This funny guy I know, @hey_luiz, doesn't know how lucky he is living with a view like this \\U0001f308\\U0001f31e\\U0001f631#chicago #westloop\\u2026 https://t.co/ei8MexVr1E\", u'@FOHeming Sure is a brilliant place! TXL great for spotting, science &amp; technology museum is worth while. Great Xmas\\u2026 https://t.co/znPWXmTZEj', u'Designer? Editor? #Image for your project. #Shopping in #Warsaw #Poland #trade #market #fashion #Zara #store #HM\\u2026 https://t.co/WJfIdp2KVb', u'RT @DJMWalk: Sioux City, IA at the #hardrockcafe #toneloc #bobbybrown #flavaflav #sugarhillgang #2livecrew #warreng https://t.co/whkJhNhbCF', u'RT @UKsocialBuzz: The Doors at original #HardRockCafe in #LosAngeles, CA, 1969. photo by Henry Diltz #TheDoors https://t.co/EhqXSXYZu4 (RT\\u2026', u\"Tonight it's @HRCBrussels \\U0001f942\\U0001f354\\U0001f35f\\U0001f369\\n#HardRockCafe #TuesdayThoughts #WorldEmojiDay\", u'The Doors at original #HardRockCafe in #LosAngeles, CA, 1969. photo by Henry Diltz #TheDoors https://t.co/EhqXSXYZu4 (RT @RockNRollPics )', u'Had a great day\\n #hardrock #hardrockcafe #hamburg #view #elbe #friends #wifey  @ Hamburg, Germany', u'Little Lavinia meets Little Steven ... yeaaaah Baby ! #littlesteven #stevie #stevevanzandt #yeahbaby #hardrock\\u2026 https://t.co/s2I4SFHI6O', u'Hard Rock Cafe Balalaika World Cup 2018 Limited Edition Pin! #balalaika #hrc #pin #collector #football\\u2026 https://t.co/WmuxFwBNbJ', u'love music but hate flying lol thanks #siouxcity #hardrockcafe \\u2022\\n\\u2022\\n\\u2022\\n\\u2022\\n\\u2022\\n\\u2022\\n#PreacherofRandB #DannyBoy #DeathRow\\u2026 https://t.co/L3y1tahLnL', u'It\\u2019s better to do all the things I\\u2019ve never done, with you. \\u2764\\ufe0f #myforever #hardrockcafe #tampa #floridafun #vaca2018 https://t.co/MjaDtROdcD', u'Dope place, good vibes, however, gambling is not my thing \\U0001f606 #hardrockcafe #tampa #florida #casino #fun https://t.co/l6IMRycdsB', u'RT @bregoro: The Greenest moment. \\U0001f918\\U0001f3fb\\nThank you parvaazmusic\\nfor an amazing show! You guys truly are a spectacle to behold. \\U0001f64f\\U0001f3fb\\n\\n#parvaaz #ha\\u2026', u'RT @bregoro: The Greenest moment. \\U0001f918\\U0001f3fb\\nThank you parvaazmusic\\nfor an amazing show! You guys truly are a spectacle to behold. \\U0001f64f\\U0001f3fb\\n\\n#parvaaz #ha\\u2026', u'The Greenest moment. \\U0001f918\\U0001f3fb\\nThank you parvaazmusic\\nfor an amazing show! You guys truly are a spectacle to behold. \\U0001f64f\\U0001f3fb\\u2026 https://t.co/3lhr9UuJMB', u'6:45 Business Networking im @HardRockCafeVienna! #bni #hardrockcafe #wien #vienna #networking @ Hard Rock Cafe Vien\\u2026 https://t.co/qQbS7Anisv', u'RT @EnjoyQuince: Copando Hard Rock Caf\\xe9 con Enjoy 15 \\U0001f4ab \\U0001f495 \\U0001f64c\\U0001f3fb\\n.\\n#hardrockcafe #universal https://t.co/HdXL4BFn81', u'RT @TheRedSeduction: When you land that ending like the fucking badasses you are! \\U0001f60e\\n#theredseduction #hardrockcafe #lasvegasrockband #latin\\u2026', u'When you land that ending like the fucking badasses you are! \\U0001f60e\\n#theredseduction #hardrockcafe #lasvegasrockband\\u2026 https://t.co/0sXzpoSzOp', u'The Doors at original #HardRockCafe in #LosAngeles, CA, 1969. photo by Henry Diltz #TheDoors https://t.co/CGE0DHsP7o (RT @RockNRollPics )', u\"So good I had to share! Check out all the items I'm loving on @Poshmarkapp from @BanarMaura #poshmark #fashion\\u2026 https://t.co/sJQ7CxEnYv\", u'Have a beautiful evening you beautiful people...from Lake Buena Vista \\U0001f6b4\\U0001f3fc\\u200d\\u2642\\ufe0f #Florida  #LakeBuenaVista #Cycling\\u2026 https://t.co/C0AgBijrCF', u'RT @SHRTampa: Clearly, the Nacho Burger is nacho average burger. \\U0001f61c\\U0001f354Available only through the month of July at the Hard Rock Cafe! \\U0001f44d #HardR\\u2026', u\"RT @SHRTampa: We're all about the #FRIES on #NationalFrenchFryDay. These bad boys are available at Hard Rock Cafe with your choice of toppi\\u2026\", u\"RT @BangBobbie: So good I had to share! Check out all the items I'm loving on @Poshmarkapp from @QueenDionne1 #poshmark #fashion #style #sh\\u2026\", u'RT @EnjoyQuince: Copando Hard Rock Caf\\xe9 con Enjoy 15 \\U0001f4ab \\U0001f495 \\U0001f64c\\U0001f3fb\\n.\\n#hardrockcafe #universal https://t.co/HdXL4BFn81', u'RT @byH_Leitenbauer: @CattMcCreary @BodManip @HardRockAtlanta @NashvilleLife Hi Catt @CattMcCreary \\U0001f91f #wow - You a #SuperStar -\\n#Love Your M\\u2026', u'RT @EnjoyQuince: Copando Hard Rock Caf\\xe9 con Enjoy 15 \\U0001f4ab \\U0001f495 \\U0001f64c\\U0001f3fb\\n.\\n#hardrockcafe #universal https://t.co/HdXL4BFn81', u'Copando Hard Rock Caf\\xe9 con Enjoy 15 \\U0001f4ab \\U0001f495 \\U0001f64c\\U0001f3fb\\n.\\n#hardrockcafe #universal https://t.co/HdXL4BFn81', u'Hello there @SpookyMagoo #HardRockCafe https://t.co/BQSm9wl6Rx', u'Returning to the Hard Rock Cafe stage is @Theehband! See them perform on Friday and Saturday night while enjoying 1\\u2026 https://t.co/NBPQMudyhs', u'#biggest #hardrockcafe in the world \\U0001f631 #universal #florida #usa #orlando @ Hard Rock Cafe Orlando https://t.co/jwEiljBIte', u'@mannixbrian #HardrockCafe is your go Mano @mannixbrian', u'RT @yoanmusic: Maybe one of the most famous jacket in show business #michaeljackson #thriller #hardrockcafe #miami https://t.co/SYjVhw1lqU', u'Spot of Silver Wedding Anniversary Lunch with @katalbot #Hardrockcafe https://t.co/fqxhPp8thp', u'Maybe one of the most famous jacket in show business #michaeljackson #thriller #hardrockcafe #miami https://t.co/SYjVhw1lqU', u'The legendary Jerry Garcia #thegratefuldead #jerrygarcia #hardrockcafe #miami https://t.co/2AIH7OZSQ7', u'#Repost @HardRockCafeJKT (get_repost)\\n\\u30fb\\u30fb\\u30fb\\nshow off your talent tonight...rock the stage with @nuse7en_band\\u2026 https://t.co/H7HBSLjxXr', u\"\\xabLengendary\\xbb : that's the word \\U0001f60e\\n#newyork #NYC #manhattan #travel #TimeSquare #HardRockCafe #citylights\\u2026 https://t.co/kmZCVoswfS\", u'RT @byH_Leitenbauer: @CattMcCreary @BodManip @HardRockAtlanta @NashvilleLife Hi Catt @CattMcCreary \\U0001f91f #wow - You a #SuperStar -\\n#Love Your M\\u2026', u'Hard Rock Cafe - Avail 10% off on your billing through ISIC card, Just flash your ISIC card and enjoy the discount.\\u2026 https://t.co/NF5lGkrP2s', u'Well isn\\u2019t that perfect timing. #AllezLesBleus \\U0001f1eb\\U0001f1f7 #HardRockCafe #Collectible @ Hard Rock Cafe Paris https://t.co/XuqsXLdGTb', u'RT @byH_Leitenbauer: @CattMcCreary @BodManip @HardRockAtlanta @NashvilleLife Hi Catt @CattMcCreary \\U0001f91f #wow - You a #SuperStar -\\n#Love Your M\\u2026', u'Sioux City, IA at the #hardrockcafe #toneloc #bobbybrown #flavaflav #sugarhillgang #2livecrew #warreng https://t.co/whkJhNhbCF', u\"Check out Hard Rock Cafe Women's XL Myrtle Beach Crewneck Sweater Cotton Polyester #HardRockCafe https://t.co/GNGmiQq8LC via @eBay\", u'We are just outside in the world, looking good and enjoying the moment. \\U0001f30d\\u2728\\U0001f60e #ThisIsMyJourney #HardRockCafe https://t.co/PsQDSRfLkN', u'RT @byH_Leitenbauer: @CattMcCreary @BodManip @HardRockAtlanta @NashvilleLife Hi Catt @CattMcCreary \\U0001f91f #wow - You a #SuperStar -\\n#Love Your M\\u2026', u'RT @nixthefuture: Hanging with @obiasisakaego @nigeriamusic official_arinze231 @hardrock in Lagos #artistsoninstagram #inspiration #lagos #\\u2026', u'RT @byH_Leitenbauer: @CattMcCreary @BodManip @HardRockAtlanta @NashvilleLife Hi Catt @CattMcCreary \\U0001f91f #wow - You a #SuperStar -\\n#Love Your M\\u2026', u'Check out Hard Rock Cafe Cayman Islands XL golf polo shirt black gray #HardRockCafe #PoloRugby https://t.co/NEy63FCM6C via @eBay', u\"So good I had to share! Check out all the items I'm loving on @Poshmarkapp from @inabaino #poshmark #fashion #style\\u2026 https://t.co/TgfEGKEtsL\", u'RT @byH_Leitenbauer: \\U0001f91f#HubertLeitenbauer \\U0001f91f\\nFounder #PranaEnergyTherapy\\xae\\nDesigner Luxury #SpiritualJewelry\\n\\U0001f3b8#HardRockCafeMallorca #HardrockC\\u2026', u'#hardrockcafe #budapest  #summer18 #holiday #summer #picoftheday #like4like #likeforfollow @ Hard Rock Cafe Budapest https://t.co/c6iIwWrCEX', u'LOVE IS in the Air \\U0001f60d\\U0001f618\\U0001f60e\\U0001f44f\\U0001f44d\\U0001f1eb\\U0001f1f7\\U0001f51d #hardrockcafe #asuncion #Paraguay #brownies \\u2665\\ufe0f\\u2665\\ufe0f\\u2665\\ufe0f https://t.co/wrzbjtIAV4', u'RT @SeanHmusic: #tbt to the last time I was here in Costa Rica. December 2013 we (Smash Mouth) came here to play the grand opening for the\\u2026', u'#pennsocial#dmv#waitinginline there are seats at #hardrockcafe #WorldCupFinal2018', u'Spend #SundayFunday at @SHRTampa with #livemusic by @taylorreedmusic inside the #HardRockCafe! https://t.co/C5erbXnFBo', u'RT @byH_Leitenbauer: @CattMcCreary @BodManip @HardRockAtlanta @NashvilleLife Hi Catt @CattMcCreary \\U0001f91f #wow - You a #SuperStar -\\n#Love Your M\\u2026', u'RT @byH_Leitenbauer: \\U0001f91f#HubertLeitenbauer \\U0001f91f\\nFounder #PranaEnergyTherapy\\xae\\nDesigner Luxury #SpiritualJewelry\\n\\U0001f3b8#HardRockCafeMallorca \\U0001f3a4#HardRock\\u2026', u'Thank You @redrecordsmusic Freeze Time by @renataquadros #hardrockcafe #southernheavyrock #heavymetal\\u2026 https://t.co/OjZXZHdA0f', u'Lunch at the Hard Rock Cafe Atlanta#hrc #hardrockcafe #hardrockcafeatlanta #atlanta #florida #food #instatravel\\u2026 https://t.co/7o6RHbNwwI', u'The Doors at original #HardRockCafe in #LosAngeles, CA, 1969. photo by Henry Diltz #TheDoors https://t.co/nVBk5mK9Kv (RT @RockNRollPics )', u'#hardrockcafe can #rockout like they are at the @rockstargames. wesaluteyou #withlove #butweknowthis\\u2026 https://t.co/CwhJAIjBgB', u'#tunolosvesporquesoninvisibles #amigosinvisibles #venezuela\\U0001f1fb\\U0001f1ea #chivo #costarica\\U0001f1e8\\U0001f1f7 #hardrockcafe @ Hard Rock Cafe -\\u2026 https://t.co/ulOKzmXbjI', u'#Incubus live was insane \\U0001f918\\U0001f3fc\\U0001f3b8 #HardRockCafe https://t.co/wcyaE8491Y', u'The Doors at original #HardRockCafe in #LosAngeles, CA, 1969. photo by Henry Diltz #TheDoors https://t.co/POah0N7DK2 (RT @RockNRollPics )', u'Here hanging at #HardRockCafe at #AVMA2018! https://t.co/rI1TBMkunZ', u'RT @byH_Leitenbauer: @CattMcCreary @BodManip @HardRockAtlanta @NashvilleLife Hi Catt @CattMcCreary \\U0001f91f #wow - You a #SuperStar -\\n#Love Your M\\u2026', u'Moon Rock Radio 88.8 Launch party is a sold out show!!!! #MoonRockRadio888 #MoonRockRadio #MoonRock #MRR\\u2026 https://t.co/4AiEnrAqo5', u'Wicked super cool rad photos of us loadin\\u2019-in and settin\\u2019-up at #HardRockCafe #Tampa.\\n@SHRTampa seminolehardrock\\u2026 https://t.co/IJBupHpdCu', u'The Doors at original #HardRockCafe in #LosAngeles, CA, 1969. photo by Henry Diltz #TheDoors https://t.co/RsnOhs7B1c (RT @RockNRollPics )', u'There was a sweet shrine to some of our beloved #27club at the #hardrockcafe. #TimDoesPhilly https://t.co/zfv5FoF9xa', u\"RT @HardRockHolly: We've been waiting for this! \\n\\nJoin us at 11am tomorrow for THE FINAL \\ufe0f\\u26bd\\ufe0f #HardRockCafe #ThisIsHardRock https://t.co/yxC\\u2026\", u\"We've been waiting for this! \\n\\nJoin us at 11am tomorrow for THE FINAL \\ufe0f\\u26bd\\ufe0f #HardRockCafe #ThisIsHardRock https://t.co/yxCAu0rjkn\", u'Had to go grab a beer at this #hardrockcafe! #TimDoesPhilly https://t.co/hO9X4nC7yh', u'\\U0001f60e \\U0001f3b8 #hardrockcafe #saturday en Hard Rock Cafe Asuncion https://t.co/XdyVFpL5bB', u'Great time is being had by all in #Amsterdam18 - tonight dinner is at #hardrockcafe https://t.co/lRHzk0R5Ii', u'Its better to burn out than to fade away \\U0001f64c\\U0001f3fc #kurtkobain #quotes #Madrid #saturday #hardrockcafe #me en Hard Rock Ca\\u2026 https://t.co/hJpJKluH9G', u'Wise men speak because they have something to say; Fools because they have to say something.\\n.\\n.\\n.\\n\\U0001f4f8 @umaassis\\u2026 https://t.co/6D09sGWBlz', u'We spent the morning granite shopping for our kitchen renovation, but now we have time to celebrate\\u2026 https://t.co/QotK8RsPPz', u'RT @AndyMia1: Dine in with live band and football match \\n#malaysiatrulyasia #hardrockcafe #departmenttrip @ Hard Rock Hotel Penang https://\\u2026', u'Satisfied! \\U0001f60b#coffeelover #hardrockcafe #amsterdam #netherlands #Nofilter #Trip en Hard Rock Cafe Amsterdam https://t.co/ZEa7ieYhIX', u'Dine in with live band and football match \\n#malaysiatrulyasia #hardrockcafe #departmenttrip @ Hard Rock Hotel Penang https://t.co/5FV33KumII', u'Getting ready to head-out to #Tampa for our show at #HardRockCafe.  We start at 7:00pm!\\n@SHRTampa @HardRock #HardRock #HardRockTampa', u'Out with THE girls \\U0001f60d #cocktails #girlsday #hardrockcaf\\xe9 #loveinit https://t.co/wsGg437Y7A', u'Having a cool party? Get these hard rock cafe glasses and stand out! #HardRockCafe #party #glasses #BBQ  https://t.co/98UMO0YltT', u'Get the ideal look for any occasion just visiting our #RockShop \\U0001f455\\U0001f45f We have a lot of new things waiting for you! \\U0001f918\\u2026 https://t.co/miPfC9Llh7', u'Sunny Boy says check they ribs oot @hrckohsamui \\n\\nA foot long \\U0001f633\\U0001f919\\U0001f60d\\U0001f44c\\U0001f60e\\n\\nEat the lot as well \\U0001f44f\\U0001f44f\\U0001f44f\\n\\n#HardRock\\u2026 https://t.co/UiCzu1YqTC', u'Doing a looper set at @hardrock tonight with my very talented friend Firuzeh!!! All you wonderful people of Pune, d\\u2026 https://t.co/n9hy18h3Kw', u'Practising for the next cover video! \\nP.S. Micheal Jackson Tribute Video is up! Link in the bio.\\n#michealjackson\\u2026 https://t.co/o8es3JxLRZ', u\"It's hardrockcafedubai day!!!!!\\n\\nWe'll be on stage from 8.30 tonight!\\nSee you there\\n\\n#dubaimusicscene\\u2026 https://t.co/tF70TytQqM\", u'Our saturdate .\\n.\\n.\\n#instapic #family #ig_kids #loveofmylife #hardrockcaf\\xe9 #hardrockcafeindonesia #7july2018 @ Hard\\u2026 https://t.co/77VDrf1L93', u'Our saturdate .\\n.\\n.\\n#instapic #family #ig_kids #loveofmylife #hardrockcaf\\xe9 #hardrockcafeindonesia #7july2018 @ Hard\\u2026 https://t.co/K52bi0jCjg', u'When in Rome... Eat like the Romans!\\nOr like the Philadelphians...\\n\\n#HardRock #HardRockCafe\\n#Philladelphia\\u2026 https://t.co/IZ73q7slzg', u'Haha I see you @FINALLEVEL #takingItWayBack #HardRockCafe #hotlanta https://t.co/cUq8WHD3Sa', u'RT @HardRockHolly: Tonight @ChangingLanesNJ makes their return to Hard Rock Cafe! Enjoy 1/2 price drinks starting at 10pm \\U0001f918 #ThisIsHardRock\\u2026', u'Tonight @ChangingLanesNJ makes their return to Hard Rock Cafe! Enjoy 1/2 price drinks starting at 10pm \\U0001f918\\u2026 https://t.co/2V6KSSqjs6', u'The Doors at original #HardRockCafe in #LosAngeles, CA, 1969. photo by Henry Diltz #TheDoors https://t.co/c7Undtwcwd (RT @RockNRollPics )', u'AC for the weekend with my girls! And Maroon 5!! #hardrockcafe #summerfun #cheerstotheweekend https://t.co/hmGJ8KutV9', u'Hanging with @obiasisakaego @nigeriamusic official_arinze231 @hardrock in Lagos #artistsoninstagram #inspiration\\u2026 https://t.co/0zINjaF0Ff', u\"I'm All About That Action!!!!! #universalstudios #hardrockcaf\\xe9 #disneyworld #ShawnCrutch #mickjenkins #joeybadass\\u2026 https://t.co/Z8DM17x6Wv\", u\"So good I had to share! Check out all the items I'm loving on @Poshmarkapp from @ValeriaGRome #poshmark #fashion\\u2026 https://t.co/qOmMOyBoEv\", u'Hyderabad sang along as @MasalaCoffee let their music flow at #hrchyd!!! \\nWhat a mind blowing performance\\u2026 https://t.co/xm1aaAvn9u', u'RT @peterk88: discover END PLAY WINNING BLACKJACK /free now...\\n...deck penetration is the key \\n\\n#NATOSummit  #HorseRacing  #hardrockcafe  #\\u2026', u'discover END PLAY WINNING BLACKJACK /free now...\\n...deck penetration is the key \\n\\n#NATOSummit  #HorseRacing\\u2026 https://t.co/f5Abald2xX', u'RT @SeanHmusic: #tbt to the last time I was here in Costa Rica. December 2013 we (Smash Mouth) came here to play the grand opening for the\\u2026', u\"RT @SHRTampa: We're all about the #FRIES on #NationalFrenchFryDay. These bad boys are available at Hard Rock Cafe with your choice of toppi\\u2026\", u'While sightseeing around Lisbon, Portugal \\U0001f1f5\\U0001f1f9 we made it to the @hardrock for another shot glass to add to mom\\u2019s col\\u2026 https://t.co/Jan6tdvWUe', u'RT @byH_Leitenbauer: @CattMcCreary @BodManip @HardRockAtlanta @NashvilleLife Hi Catt @CattMcCreary \\U0001f91f #wow - You a #SuperStar -\\n#Love Your M\\u2026', u'RT @WLWBiH: #fbf #FlashbackFriday #flashbackfriday\\U0001f4f8 @willylevy29 #victorfaust @killing_sarai #killingsaraimovie #actor #producer #screenwri\\u2026', u'En Backstage con la familia @thebloomnet \\n\\n#hardrock #hardrockcafe #drinks #kiss #band #musiclife #music #pop\\u2026 https://t.co/SvG24Y67dz', u'RT @JonelleSleek: The Doors at original #HardRockCafe in #LosAngeles, CA, 1969.\\nphoto by Henry Diltz #TheDoors https://t.co/jbBW0A6kOD via\\u2026', u\"We're all about the #FRIES on #NationalFrenchFryDay. These bad boys are available at Hard Rock Cafe with your choic\\u2026 https://t.co/NJY6GN470A\", u'Florida was lit bruv #Florida #floridasupercon #hardrockcafe #hadadopetime https://t.co/TN5VbMxg4w', u'RT @WLWBiH: #fbf #FlashbackFriday #flashbackfriday\\U0001f4f8 @willylevy29 #victorfaust @killing_sarai #killingsaraimovie #actor #producer #screenwri\\u2026', u'RT @WLWBiH: #fbf #FlashbackFriday #flashbackfriday\\U0001f4f8 @willylevy29 #victorfaust @killing_sarai #killingsaraimovie #actor #producer #screenwri\\u2026', u'#Repost doremifasoham (get_repost)\\n\\u30fb\\u30fb\\u30fb\\nHard Rock Cafe, Poona with @sparshtheband \\U0001f4f8 shakyamuni_04 \\n#sparshtheband\\u2026 https://t.co/xp4nYGQl33', u'PSA - Jive Talking is back every Friday at #HardRockCafe #Singapore. We all just sang along to a #BackstreetBoys medley. Da bomb.', u'Hard Rock Cafe Stirs Up A Mexican Fiesta This Season - https://t.co/19BnztoOFd - #HardRockCafe - - Hard Rock Cafe S\\u2026 https://t.co/5tglXQu9L2', u'RT @WLWBiH: #fbf #FlashbackFriday #flashbackfriday\\U0001f4f8 @willylevy29 #victorfaust @killing_sarai #killingsaraimovie #actor #producer #screenwri\\u2026', u\"Drummer killing it on our first show of the 'Trouble In Paradise Tour!' \\n.\\n.\\n.\\n#music #flashbackfriday #rock #pop\\u2026 https://t.co/v0nK32cpUk\", u\"RT @carvinjones: \\U0001f3b8\\U0001f3b6 #Indianapolis GET READY! The Ultimate Guitar Experience of the Year is comin' July 15th!  Carvin Jones is coming to Har\\u2026\", u'The Doors at original #HardRockCafe in #LosAngeles, CA, 1969. photo by Henry Diltz #TheDoors https://t.co/ShJvxe6ZBA (RT @RockNRollPics )', u'Dolls from @hardrockcafe in NY #harperrae #doll #dolls #drummer #pinkhair #musician #hardrockcafe #travel\\u2026 https://t.co/n8y3kb4qKN', u'Dolls from @hardrockcafe in NY\\n#harperrae #doll #dolls #drummer #pinkhair #musician #hardrockcafe #travel\\u2026 https://t.co/xTnUx0yEyk', u'I love pins \\U0001f60d This is all my non-Disney collection \\u26a1\\ufe0f\\n.\\n.\\n#pincollection #harrypotter #hardrockcafe #jurassicpark\\u2026 https://t.co/lyHy4rNi0D', u'RT @ChilliDog79: Damn #HardRockCafe bussing heads...$18 for a burger geesh https://t.co/KXlkm2cCG2', u'Dolls from @hardrockcafe in NY\\n#harperrae #doll #dolls #drummer #pinkhair #musician #hardrockcafe #travel\\u2026 https://t.co/JcqhoSGywH', u'@hrcpune you were amazing \\u2764\\ufe0f\\n.\\n.\\n.\\n.\\n.\\n.\\n#sparshtheband #popband #popculture #hardrockcafe #pune #kepl', u'RT @JonelleSleek: The Doors at original #HardRockCafe in #LosAngeles, CA, 1969.\\nphoto by Henry Diltz #TheDoors https://t.co/jbBW0A6kOD via\\u2026', u'Hard Rock Cafe was Lush! #hardrockcafe #lunch #london #tasty #food #drink #yummy @ Hard Rock Cafe London https://t.co/kstHwdzUfa', u'The collector part simply does not fade away. #hardrockcafe #moscow #russia #hrc #icon #worldcup2018 #pin\\u2026 https://t.co/UmW9EyZYHX', u'RT @WLWBiH: #fbf #FlashbackFriday #flashbackfriday\\U0001f4f8 @willylevy29 #victorfaust @killing_sarai #killingsaraimovie #actor #producer #screenwri\\u2026', u'#fbf #FlashbackFriday #flashbackfriday\\U0001f4f8 @willylevy29 #victorfaust @killing_sarai #killingsaraimovie #actor\\u2026 https://t.co/4ZHDIPMcK5', u'Only a rocker will appreciate all these.. \\U0001f918 Thank you baby \\U0001f618\\u2764\\ufe0f #HardRockCafe #Bali https://t.co/t7AKTyi74F', u'RT @Kayhahn1: Artist James R Hahn celebrating his birthday at #HardRockCafe Athens Greece. https://t.co/6yQ5z2P08b', u'Wee drink in #hardrockcaf\\xe9 #pier39 #sanfrancisco #california to end the day @ Hard Rock Cafe San Francisco https://t.co/IFn8iDtwB5', u'#Dessert #hardrockcafe @ Hard Rock Cafe St. Louis https://t.co/kundEOykEI', u'Damn #HardRockCafe bussing heads...$18 for a burger geesh https://t.co/KXlkm2cCG2', u'RT @SeanHmusic: #tbt to the last time I was here in Costa Rica. December 2013 we (Smash Mouth) came here to play the grand opening for the\\u2026', u'RT @JonelleSleek: The Doors at original #HardRockCafe in #LosAngeles, CA, 1969.\\nphoto by Henry Diltz #TheDoors https://t.co/jbBW0A6kOD via\\u2026', u'Response has been so incredible @HardRockHCAC we\\u2019ve added more shows!  Come see us next month starting August 15th!\\u2026 https://t.co/AMiCAPe5VL', u'RT @JonelleSleek: The Doors at original #HardRockCafe in #LosAngeles, CA, 1969.\\nphoto by Henry Diltz #TheDoors https://t.co/jbBW0A6kOD via\\u2026', u'RT @JonelleSleek: The Doors at original #HardRockCafe in #LosAngeles, CA, 1969.\\nphoto by Henry Diltz #TheDoors https://t.co/jbBW0A6kOD via\\u2026', u'RT @ArtistsandMusic: The Doors at original #HardRockCafe in #LosAngeles, CA, 1969. photo by Henry Diltz #TheDoors https://t.co/QsCeOMspDQ (\\u2026', u'RT @JonelleSleek: The Doors at original #HardRockCafe in #LosAngeles, CA, 1969.\\nphoto by Henry Diltz #TheDoors https://t.co/jbBW0A6kOD via\\u2026', u'RT @byH_Leitenbauer: @CattMcCreary @BodManip @HardRockAtlanta @NashvilleLife Hi Catt @CattMcCreary \\U0001f91f #wow - You a #SuperStar -\\n#Love Your M\\u2026', u'Saturday!  #HardRockCafe at Seminole Hard Rock Hotel &amp; Casino #Tampa.\\n@SHRTampa #hardrocktampa #HardRock @ Hard Roc\\u2026 https://t.co/w6FzJgeRop', u'RT @ArtistsandMusic: The Doors at original #HardRockCafe in #LosAngeles, CA, 1969. photo by Henry Diltz #TheDoors https://t.co/QsCeOMspDQ (\\u2026', u'RT @ArtistsandMusic: The Doors at original #HardRockCafe in #LosAngeles, CA, 1969. photo by Henry Diltz #TheDoors https://t.co/QsCeOMspDQ (\\u2026', u'RT @ArtistsandMusic: The Doors at original #HardRockCafe in #LosAngeles, CA, 1969. photo by Henry Diltz #TheDoors https://t.co/QsCeOMspDQ (\\u2026', u'RT @Kramer_5150: Pretty cool huh? #repost @johnnybeane #evh #eddievanhalen #vanhalen #hardrockcafe https://t.co/Kg3qdGp7rD', u'RT @ArtistsandMusic: The Doors at original #HardRockCafe in #LosAngeles, CA, 1969. photo by Henry Diltz #TheDoors https://t.co/QsCeOMspDQ (\\u2026', u'RT @byH_Leitenbauer: @CattMcCreary @BodManip @HardRockAtlanta @NashvilleLife Hi Catt @CattMcCreary \\U0001f91f #wow - You a #SuperStar -\\n#Love Your M\\u2026', u'RT @ArtistsandMusic: The Doors at original #HardRockCafe in #LosAngeles, CA, 1969. photo by Henry Diltz #TheDoors https://t.co/QsCeOMspDQ (\\u2026', u'RT @ArtistsandMusic: The Doors at original #HardRockCafe in #LosAngeles, CA, 1969. photo by Henry Diltz #TheDoors https://t.co/QsCeOMspDQ (\\u2026', u'The Doors at original #HardRockCafe in #LosAngeles, CA, 1969. photo by Henry Diltz #TheDoors https://t.co/QsCeOMspDQ (RT @RockNRollPics )', u'RT @Kramer_5150: Pretty cool huh? #repost @johnnybeane #evh #eddievanhalen #vanhalen #hardrockcafe https://t.co/Kg3qdGp7rD', u'**ALERT** Sunday July 15th!\\nWe are playing some music for you at The Hard Rock Cafe in Seattle w/Ian Ayers and HopS\\u2026 https://t.co/aNZJ2X2RFt', u'Going to the #beach this #summer ? Or is it the #isar ? Anyways, you can`t go far without our #hardrockcafe igloo b\\u2026 https://t.co/cEWmryGc0t', u'Well arrived in Porto!\\nSee you tonight on stage @hardrock Porto! \\U0001f1f5\\U0001f1f9\\U0001f918\\n\\n#porto #portugal #tour #band #hardrockcafe\\u2026 https://t.co/06Qqfegwvx', u'#Cambodia #hardrockcafe #angkor #siemreap @ Hard Rock Cafe Angkor https://t.co/zpUWX608yN', u'#Cambodia #hardrockcafe #angkor #siemreap @ Hard Rock Cafe Angkor https://t.co/S2a0Kh1PkA', u'#Cambodia #hardrockcafe #angkor #siemreap @ Hard Rock Cafe Angkor https://t.co/sPyGW4soHO', u'Hard Rock Cafe in Siem Reap #cambodia #siemreap #hardrockcafe @ Hard Rock Cafe Angkor https://t.co/2FaRLt5yBa', u'Hard Rock Cafe in Siem Reap #cambodia #siemreap #hardrockcafe @ Hard Rock Cafe Angkor https://t.co/TS1GKn6oJR', u'Hard Rock Cafe in Siem Reap #cambodia #siemreap #hardrockcafe @ Hard Rock Cafe Angkor https://t.co/84NGQ55XpZ', u'This past Sunday was a beautiful day in Philly! Wishing we were still there. #philadelphia #philly #visitphilly\\u2026 https://t.co/jJGd3VUOmF', u'RT @Kayhahn1: Artist James R Hahn celebrating his birthday at #HardRockCafe Athens Greece. https://t.co/6yQ5z2P08b', u'Artist James R Hahn celebrating his birthday at #HardRockCafe Athens Greece. https://t.co/6yQ5z2P08b', u'RT @Kramer_5150: Pretty cool huh? #repost @johnnybeane #evh #eddievanhalen #vanhalen #hardrockcafe https://t.co/Kg3qdGp7rD', u'RT @SeanHmusic: #tbt to the last time I was here in Costa Rica. December 2013 we (Smash Mouth) came here to play the grand opening for the\\u2026', u'#tbt \\nThis was a special order for #hardrockcafe #berlin years ago \\n#guitarpinata #hardrockcafeberlin\\u2026 https://t.co/08To9e331o', u'#tbt to the last time I was here in Costa Rica. December 2013 we (Smash Mouth) came here to play the grand opening\\u2026 https://t.co/EowFrmkeEn', u'#hardrockcafepune #hardrockcafe #theboysofthebar #ymca #villagepeople @ Hard Rock Cafe Pune https://t.co/OYI71Klvek', u'Do you like spinning guitars? \\U0001f3b8\\U0001f3b8\\U0001f3b8\\n\\u2014\\u2014\\u2014\\u2014\\u2014\\u2014\\u2014-\\n#nightphotography #hardrockcafe #travelphotographer #travelvlogger\\u2026 https://t.co/gxmkNuynLo', u'RT @Kramer_5150: Pretty cool huh? #repost @johnnybeane #evh #eddievanhalen #vanhalen #hardrockcafe https://t.co/Kg3qdGp7rD', u'RT @SHRTampa: Clearly, the Nacho Burger is nacho average burger. \\U0001f61c\\U0001f354Available only through the month of July at the Hard Rock Cafe! \\U0001f44d #HardR\\u2026', u'You can book hundreds of Gold Coast tours, attractions and dining experiences through our website.  Here\\u2019s just one\\u2026 https://t.co/Tj3QmGmnDl', u'#HardRockCafe: A Guinness Burger is just as good as it seems, YUMMY!! \\U0001f60e https://t.co/vu8zUxSsdj', u\"What??!! @MorganCWallen and @TylerRichMusic are playing this Sunday in San Diego??? That's a 4 hour drive.\\U0001f62d\\U0001f62dwhy do\\u2026 https://t.co/Fhi1cbMQ1l\", u\"\\U0001f3b8\\U0001f3b6 #Indianapolis GET READY! The Ultimate Guitar Experience of the Year is comin' July 15th!  Carvin Jones is coming\\u2026 https://t.co/zD7NRyYG68\", u'RT @Kramer_5150: Pretty cool huh? #repost @johnnybeane #evh #eddievanhalen #vanhalen #hardrockcafe https://t.co/Kg3qdGp7rD', u'Tons of unbelievable rockin\\u2019 stuff @hardrock \\U0001f3b6\\U0001f3b8\\U0001f60e\\U0001f918\\U0001f3fc\\U0001f1fa\\U0001f1f8\\U0001f389\\U0001f354\\n\\n#vanhalen #EVH #hardrockcafe #losangeles @ Universal Studio\\u2026 https://t.co/FXzyWqZ6m2', u\"RT @carvinjones: \\U0001f3b8\\U0001f3b6 #PITTSBURGH GET READY! The Ultimate Guitar Experience of the Year is comin' July 14th!  Carvin Jones is coming to Hard\\u2026\", u'RT @Kramer_5150: Pretty cool huh? #repost @johnnybeane #evh #eddievanhalen #vanhalen #hardrockcafe https://t.co/Kg3qdGp7rD', u'Sometimes to cheer you up, you just need to remind yourself ... That you must rock out the world! \\U0001f60e\\U0001f918\\u2026 https://t.co/tNZ3A5xlPr', u'RT @Kramer_5150: Pretty cool huh? #repost @johnnybeane #evh #eddievanhalen #vanhalen #hardrockcafe https://t.co/Kg3qdGp7rD', u'RT @Kramer_5150: Pretty cool huh? #repost @johnnybeane #evh #eddievanhalen #vanhalen #hardrockcafe https://t.co/Kg3qdGp7rD', u'Pretty cool huh? #repost @johnnybeane #evh #eddievanhalen #vanhalen #hardrockcafe https://t.co/Kg3qdGp7rD', u'Less than 30 mins until \\U0001f3f4\\U000e0067\\U000e0062\\U000e0065\\U000e006e\\U000e0067\\U000e007f vs. \\U0001f1ed\\U0001f1f7! Grab a spot at our bar &amp; watch with us! \\u26bd\\ufe0f\\U0001f918 #ThisIsHardRock #hardrockcafe\\u2026 https://t.co/ch5gabGnr9', u'Right now at the #Hardrockcafe in Oslo: Take me down by @TPROfficial \\U0001f60d\\U0001f918 @taylormomsen @jamieisgone @MarktheGiant\\u2026 https://t.co/yRa9H516aD', u'RT @SHRTampa: Clearly, the Nacho Burger is nacho average burger. \\U0001f61c\\U0001f354Available only through the month of July at the Hard Rock Cafe! \\U0001f44d #HardR\\u2026', u'RT @HardRockMunich: All good things come to an end...and so is this tournament. Come and watch the Battle for third and the FINAL with us.\\u2026', u'RT @Kayhahn1: James celebrating his birthday at the #HardRockCafe in #Athens #Greece #jamesrhahn https://t.co/vQSVJOxT2t', u'All good things come to an end...and so is this tournament. Come and watch the Battle for third and the FINAL with\\u2026 https://t.co/q0SXSq5EgB', u'RT @Kayhahn1: James celebrating his birthday at the #HardRockCafe in #Athens #Greece #jamesrhahn https://t.co/vQSVJOxT2t', u'James celebrating his birthday at the #HardRockCafe in #Athens #Greece #jamesrhahn https://t.co/vQSVJOxT2t', u'Last selfie in the Hard Rock Cafe Tianjin. I had a nice time there \\U0001f60b\\U0001f64f\\U0001f3fc\\U0001f601\\U0001f3b6\\U0001f3b5\\U0001f918\\U0001f3fc#music #band #drumlife #drummer #pop\\u2026 https://t.co/x68jeGTDxB', u'RT @HardRockCafeAC: Finish your Tuesday off the right way with a Hot Fudge Brownie topped with Ben &amp; Jerry\\u2019s\\xae vanilla ice cream.\\n\\n#National\\u2026', u\"Follow #WorldCup2018? Come, let's watch the matches together @ Hard Rock Cafe.\\n\\nRSVP at https://t.co/J0URBooB0Q\\u2026 https://t.co/3AlmBuPi6N\", u'RT @sylviakhoh_: Give yourself permission to live a big life. Step into who you are meant to be. Stop playing small. You are meant for grea\\u2026', u'Watch The Games with Hard Rock! Semi-final match no. 2 today from 8:00 pm! Come cheer for your team and enjoy our d\\u2026 https://t.co/a1F3JJeXJg', u'Give yourself permission to live a big life. Step into who you are meant to be. Stop playing small. You are meant f\\u2026 https://t.co/VFmuQ0REJf', u'Morning mood \\U0001f64f\\n #2bconsult #hardlopen #harder #hardstyle #hardlife #hardbody #hardrockhotel #hard #hardrockcafe\\u2026 https://t.co/R0Eqn5a6fz', u'RT @SHRTampa: Clearly, the Nacho Burger is nacho average burger. \\U0001f61c\\U0001f354Available only through the month of July at the Hard Rock Cafe! \\U0001f44d #HardR\\u2026', u'\\U0001f918\\U0001f918\\U0001f918#rock #hardrockcafe #nyc en Times Square, New York City https://t.co/16sNT4ik9Q', u'RT @jessedenaro: hittin\\' tonight at around 7:30 at the #hardrockcafe in #pittsburgh. come hang and sing \"slowdance\" with yer boi. \\U0001f60e | liste\\u2026', u'RT @SHRTampa: Clearly, the Nacho Burger is nacho average burger. \\U0001f61c\\U0001f354Available only through the month of July at the Hard Rock Cafe! \\U0001f44d #HardR\\u2026', u'RT @SHRTampa: Clearly, the Nacho Burger is nacho average burger. \\U0001f61c\\U0001f354Available only through the month of July at the Hard Rock Cafe! \\U0001f44d #HardR\\u2026', u'hittin\\' tonight at around 7:30 at the #hardrockcafe in #pittsburgh. come hang and sing \"slowdance\" with yer boi. \\U0001f60e\\u2026 https://t.co/nyH1pnRXXt', u'RT @JonelleSleek: The Doors at original #HardRockCafe in #LosAngeles, CA, 1969.\\nphoto by Henry Diltz #TheDoors https://t.co/jbBW0A6kOD via\\u2026', u'Clearly, the Nacho Burger is nacho average burger. \\U0001f61c\\U0001f354Available only through the month of July at the Hard Rock Cafe\\u2026 https://t.co/NPnUz6FCo2', u'Vtg 90s Hard Rock Cafe Medium Orlando Wool Black White Varsity Jacket USA #hardrockcafe #varsityjacket\\u2026 https://t.co/jpBNG7MbAC', u\"Check out Hard Rock Cafe Women's XL Myrtle Beach Crewneck Sweater Cotton Polyester #HardRockCafe https://t.co/GNGmiQq8LC via @eBay\", u'#nobar #worldcup #worldcup2018 \\nFrance vs Belgium \\n\\u26bd \\U0001f1eb\\U0001f1f7  vs  \\U0001f1e7\\U0001f1ea \\u26bd\\n#hardrockcafe @ Hard Rock Cafe Jakarta https://t.co/7Xi1WjHCIN', u'RT @byH_Leitenbauer: @CattMcCreary @BodManip @HardRockAtlanta @NashvilleLife Hi Catt @CattMcCreary \\U0001f91f #wow - You a #SuperStar -\\n#Love Your M\\u2026', u'Apparently I collect swizzle sticks now, #HardRockCafe \\U0001f601 https://t.co/SlhVQzvJjo', u'RT @HardRockOrlando: \\U0001f1eb\\U0001f1f7 VS  \\U0001f1e7\\U0001f1ea TODAY @ 2pm\\n\\n\\U0001f1ed\\U0001f1f7 VS \\U0001f3f4\\U000e0067\\U000e0062\\U000e0065\\U000e006e\\U000e0067\\U000e007f TOMORROW @ 2pm               \\n\\n#ThisIsHardRock #HardRockCafe #HardRockCafeOrlando\\u2026', u'This Summer starts with your journey...make it a special one! Where are you travelling to? #thisismyjourney\\u2026 https://t.co/jrNPGBKWth', u'RT @byH_Leitenbauer: @CattMcCreary @BodManip @HardRockAtlanta @NashvilleLife Hi Catt @CattMcCreary \\U0001f91f #wow - You a #SuperStar -\\n#Love Your M\\u2026', u'Yes, we are in London \\u2764\\ufe0f #london #hardrockcafe #hardrockcafelondon #daughters #vacation @ Hard Rock Cafe London https://t.co/gyhkiAUkFp', u'\\U0001f1eb\\U0001f1f7 VS  \\U0001f1e7\\U0001f1ea TODAY @ 2pm\\n\\n\\U0001f1ed\\U0001f1f7 VS \\U0001f3f4\\U000e0067\\U000e0062\\U000e0065\\U000e006e\\U000e0067\\U000e007f TOMORROW @ 2pm               \\n\\n#ThisIsHardRock #HardRockCafe\\u2026 https://t.co/fK4vEx02LW', u'Hard Rock Cafe Munich.\\n\\U0001f1e9\\U0001f1ea\\U0001f3b8\\U0001f354\\U0001f35f\\U0001f377\\n.\\n.\\n.\\n.\\n#hardrockcafe #munich #thisishardrock #bayern #bavaria #germany #alemania\\u2026 https://t.co/iOdcp2gyNR', u'Cheers from #hardrockcafe \\n\\U0001f918\\U0001f918\\U0001f918 https://t.co/2aeMJO3wWf', u'RT @earnestpugh: #Atlanta make plans to join us at the #HardRockCafe as we honor @byroncage #gospel #music #earnestpugh #promo #Georgia #li\\u2026', u'\\u201cBorn to defy?!\\u201d You\\u2019re as defiant as a curtsey, @HardRock ! #hardrockcafe https://t.co/epVShz8Kca', u'#TheEssenceOfSurvival #The #Seminole Tribe of Florida, a federally recognized American Indian tribe (567 recognized\\u2026 https://t.co/w6q7iZlL5n', u'Your journey starts at HARD ROCK SHOP LONDON! Find them: https://t.co/Hb0DYfgfo7 #hardrockcafe #hardrockshop\\u2026 https://t.co/m0HHWiqvnY', u'Smile through the disappointment\\nLaugh the pain away\\nTomorrow surely will be better\\n\\n#tuesday #tuesdaymotivation\\u2026 https://t.co/ph3LYjXNbr', u'RT @byH_Leitenbauer: @CattMcCreary @BodManip @HardRockAtlanta @NashvilleLife Hi Catt @CattMcCreary \\U0001f91f #wow - You a #SuperStar -\\n#Love Your M\\u2026', u'The Doors at original #HardRockCafe in #LosAngeles, CA, 1969. photo by Henry Diltz #TheDoors https://t.co/XDwjk10aPf (RT @RockNRollPics )', u'The Doors at original #HardRockCafe in #LosAngeles, CA, 1969. photo by Henry Diltz #TheDoors https://t.co/EhqXSXYZu4 (RT @RockNRollPics )', u'RT @byH_Leitenbauer: @CattMcCreary @BodManip @HardRockAtlanta @NashvilleLife Hi Catt @CattMcCreary \\U0001f91f #wow - You a #SuperStar -\\n#Love Your M\\u2026', u'RT @earnestpugh: #Atlanta make plans to join us at the #HardRockCafe as we honor @byroncage #gospel #music #earnestpugh #promo #Georgia #li\\u2026', u\"So good I had to share! Check out all the items I'm loving on @Poshmarkapp from @mintcloset31 #poshmark #fashion\\u2026 https://t.co/hbsjGWRc8B\", u'Hard Rock Cafe \\U0001f603\\U0001f918\\U0001f3b6\\U0001f3b8 #hardrockcafe #chicago @ Hard Rock Cafe Chicago https://t.co/bqQq48KAZf', u'That smile\\U0001f60a\\n#RepostSave @lyssam_88 with repostsaveapp\\n \\u30fb\\u30fb\\u30fb \\nAll or Nothing \\u2764\\ufe0f @iamerikestrada @otownofficial\\u2026 https://t.co/YkdcXw3nXT', u'RT @byH_Leitenbauer: @CattMcCreary @BodManip @HardRockAtlanta @NashvilleLife Hi Catt @CattMcCreary \\U0001f91f #wow - You a #SuperStar -\\n#Love Your M\\u2026', u\"RT @hrc_sanantonio: Did you know that our cafe has Bun E. Carlo\\u015b Ringo's Ludwig drum kit used it in the mid \\u201990s on tour and on the song \\u201cC\\u2026\", u\"\\U0001f3b8\\U0001f3b6 #PITTSBURGH GET READY! The Ultimate Guitar Experience of the Year is comin' July 14th!  Carvin Jones is coming t\\u2026 https://t.co/sNA4ohpst9\", u'Excited to have @ChangingLanesNJ back at Hard Rock Cafe! Catch them this Friday and Saturday night at 10pm \\U0001f918\\u2026 https://t.co/4YEc3sSuTB', u'Thanks to ashleyfayephotography for grabbing this pic at  @womenwhorockpgh. Such a great night of musicing! \\n.\\n.\\n.\\u2026 https://t.co/awVnanJvgj', u'New EP 2018 coming soon.\\nNew sounds... new themes...\\nNew songs... new riffs...\\nNew patterns... new ROCK!!!\\u2026 https://t.co/zTY2xSLrgK', u\"Did you know that our cafe has Bun E. Carlo\\u015b Ringo's Ludwig drum kit used it in the mid \\u201990s on tour and on the son\\u2026 https://t.co/eguflJwGHd\", u'RT @IamAffluentJB: I was a Musician before a Artist.\\U0001f3b6\\U0001f3b9\\U0001f941\\U0001f3a4#AffluentJB #NoRapCheck 2.5 Out Now\\u203c\\ufe0f#HardRockCafe #PCAENT @HardRockCasinoV https:/\\u2026', u'RT @IamAffluentJB: Living like It\\u2019s No Tomorrow.....Rock Star\\U0001f3b8 #NoRapCheck 2.5 #AffluentJB #HardRockCafe\\u2019 #clicklinkinbio @HardRockCafeSyd\\u2026', u'In Hard Rock Cafe \\U0001f3b8\\U0001f3b8\\U0001f3bc\\U0001f3a7 St. Petersburg \\U0001f1f7\\U0001f1fa\\U0001f37d\\U0001f37a\\U0001f44c\\U0001f3fc The Best. #hardrockcafe #russia #food #cafe #thefirst en Hard Rock Caf\\u2026 https://t.co/edXrbeJ4z4', u'Hppy bday dearself turn 28\\U0001f918\\U0001f3fd\\n#birthdayboy #hardrockcafe #allisone https://t.co/dBYJFAEMDE', u'RT @earnestpugh: #Atlanta make plans to join us at the #HardRockCafe as we honor @byroncage #gospel #music #earnestpugh #promo #Georgia #li\\u2026', u'RT @earnestpugh: #Atlanta make plans to join us at the #HardRockCafe as we honor @byroncage #gospel #music #earnestpugh #promo #Georgia #li\\u2026', u'#Atlanta make plans to join us at the #HardRockCafe as we honor @byroncage #gospel #music #earnestpugh #promo\\u2026 https://t.co/P2hkGCrPNw', u\"\\u2018Kabira\\u2019 star Tochi Raina along with 'Band of Bandagi' to enthrall Bengaluru with Artist Aloud\\u2019s maiden artiste tou\\u2026 https://t.co/gRg9v8JKyk\", u'RT @MrsJayTay: Not gonna lie, it\\u2019s #NFTE \\U0001f49c\\U0001f9e1 to be with your BFF, House Husband &amp; Work Husband in the City of Brotherly Love #Philadelphia #\\u2026', u'Up on the blog today I\\u2019m sharing my favorite spots to eat in #sanantonio Texas! Link in bio to read!\\n\\u2022\\n\\u2022\\n\\u2022\\n\\u2022\\u2026 https://t.co/0blhtUG24p', u'Hard Rock n\\u2022 30, Venezia, MetallicA Family #gratta #takilla  #cool #venezia #venecia #venice #italia #italy\\u2026 https://t.co/INF4DbkCqb', u'#Repost @sparshtheband (get_repost)\\n\\u30fb\\u30fb\\u30fb\\nPune are you ready?\\nNext stop Pune on the 12th July, Poona party scenes gon\\u2026 https://t.co/5y4lirxQeg', u'-New Arrivals-\\nHardRock CAFE \\nTOKYO \\nGraphic TEE \\n#hardrockcafe #cafe #tokyo #japan #tee #vintagetee #graphic\\u2026 https://t.co/GgC5TH0YXG', u'This is how we beat our Monday Blues. #HappyHour \\n\\n#HardRockCafe #HRCKK #BeatTheMondayBlues #ChillOut https://t.co/ohwoomvYLV', u\"You're the Psyduck to my Vulpix \\U0001f425\\U0001f98a\\n\\u22c5\\n\\u22c5\\n\\u22c5\\n\\u22c5\\n\\u22c5\\n\\u22c5\\n\\u22c5\\n\\u22c5\\n\\u22c5\\n\\u22c5\\n#geelinspirasie #babes #gno #nightout #psyduck #vulpix\\u2026 https://t.co/iObYQadb3W\", u'Hanging out in Hollywood and made a stop by the @hardrock - look what I found!!\\U0001f631\\U0001f3b8\\U0001f1fa\\U0001f1f8\\U0001f60e\\U0001f3b6\\n\\n#VanHalen #Kramer #5150Time\\u2026 https://t.co/C7tpcXHurX']\n"
     ]
    }
   ],
   "source": [
    "hts=[]\n",
    "hts=gethashtags(\"HRCIndia\")\n",
    "\n",
    "print hts\n"
   ]
  },
  {
   "cell_type": "code",
   "execution_count": 51,
   "metadata": {},
   "outputs": [],
   "source": [
    "TWEETS= pd.DataFrame(Tweets, columns=['Tweets'])"
   ]
  },
  {
   "cell_type": "code",
   "execution_count": 52,
   "metadata": {},
   "outputs": [
    {
     "data": {
      "text/html": [
       "<div>\n",
       "<style scoped>\n",
       "    .dataframe tbody tr th:only-of-type {\n",
       "        vertical-align: middle;\n",
       "    }\n",
       "\n",
       "    .dataframe tbody tr th {\n",
       "        vertical-align: top;\n",
       "    }\n",
       "\n",
       "    .dataframe thead th {\n",
       "        text-align: right;\n",
       "    }\n",
       "</style>\n",
       "<table border=\"1\" class=\"dataframe\">\n",
       "  <thead>\n",
       "    <tr style=\"text-align: right;\">\n",
       "      <th></th>\n",
       "      <th>Tweets</th>\n",
       "    </tr>\n",
       "  </thead>\n",
       "  <tbody>\n",
       "    <tr>\n",
       "      <th>0</th>\n",
       "      <td>Ever had nachos drunk on tequila? The WILD WES...</td>\n",
       "    </tr>\n",
       "    <tr>\n",
       "      <th>1</th>\n",
       "      <td>Get your feet tapping to chartbuster Bollywood...</td>\n",
       "    </tr>\n",
       "    <tr>\n",
       "      <th>2</th>\n",
       "      <td>Some of our favorite words - CHOCOLATE, TOMATO...</td>\n",
       "    </tr>\n",
       "    <tr>\n",
       "      <th>3</th>\n",
       "      <td>Loaded, crispy nachos drunk on tequila is here...</td>\n",
       "    </tr>\n",
       "    <tr>\n",
       "      <th>4</th>\n",
       "      <td>That warm jittery feeling and butterflies in y...</td>\n",
       "    </tr>\n",
       "    <tr>\n",
       "      <th>5</th>\n",
       "      <td>We’ve got a fix for chill everyday with our Ha...</td>\n",
       "    </tr>\n",
       "    <tr>\n",
       "      <th>6</th>\n",
       "      <td>Indulge in the sufi and acoustic music with Ba...</td>\n",
       "    </tr>\n",
       "    <tr>\n",
       "      <th>7</th>\n",
       "      <td>Get head-banging to the high energy rock notes...</td>\n",
       "    </tr>\n",
       "    <tr>\n",
       "      <th>8</th>\n",
       "      <td>Catch the sounds of Afro-Cuban music with Keni...</td>\n",
       "    </tr>\n",
       "    <tr>\n",
       "      <th>9</th>\n",
       "      <td>This Thursday, Fossils is creating their rock ...</td>\n",
       "    </tr>\n",
       "  </tbody>\n",
       "</table>\n",
       "</div>"
      ],
      "text/plain": [
       "                                              Tweets\n",
       "0  Ever had nachos drunk on tequila? The WILD WES...\n",
       "1  Get your feet tapping to chartbuster Bollywood...\n",
       "2  Some of our favorite words - CHOCOLATE, TOMATO...\n",
       "3  Loaded, crispy nachos drunk on tequila is here...\n",
       "4  That warm jittery feeling and butterflies in y...\n",
       "5  We’ve got a fix for chill everyday with our Ha...\n",
       "6  Indulge in the sufi and acoustic music with Ba...\n",
       "7  Get head-banging to the high energy rock notes...\n",
       "8  Catch the sounds of Afro-Cuban music with Keni...\n",
       "9  This Thursday, Fossils is creating their rock ..."
      ]
     },
     "execution_count": 52,
     "metadata": {},
     "output_type": "execute_result"
    }
   ],
   "source": [
    "TWEETS.head(10)"
   ]
  },
  {
   "cell_type": "code",
   "execution_count": 54,
   "metadata": {},
   "outputs": [],
   "source": [
    "HASHTAGS= pd.DataFrame(hts, columns=['Hashtags'])"
   ]
  },
  {
   "cell_type": "code",
   "execution_count": 55,
   "metadata": {},
   "outputs": [
    {
     "data": {
      "text/html": [
       "<div>\n",
       "<style scoped>\n",
       "    .dataframe tbody tr th:only-of-type {\n",
       "        vertical-align: middle;\n",
       "    }\n",
       "\n",
       "    .dataframe tbody tr th {\n",
       "        vertical-align: top;\n",
       "    }\n",
       "\n",
       "    .dataframe thead th {\n",
       "        text-align: right;\n",
       "    }\n",
       "</style>\n",
       "<table border=\"1\" class=\"dataframe\">\n",
       "  <thead>\n",
       "    <tr style=\"text-align: right;\">\n",
       "      <th></th>\n",
       "      <th>Hashtags</th>\n",
       "    </tr>\n",
       "  </thead>\n",
       "  <tbody>\n",
       "    <tr>\n",
       "      <th>0</th>\n",
       "      <td>RT @Bigkanvas: Its a #sufi night with #bandofb...</td>\n",
       "    </tr>\n",
       "    <tr>\n",
       "      <th>1</th>\n",
       "      <td>RT @Bigkanvas: Its a #sufi night with #bandofb...</td>\n",
       "    </tr>\n",
       "    <tr>\n",
       "      <th>2</th>\n",
       "      <td>Its a #sufi night with #bandofbandagi at #hard...</td>\n",
       "    </tr>\n",
       "    <tr>\n",
       "      <th>3</th>\n",
       "      <td>@slash prince @kingbobbybrown  #hardrockcafé h...</td>\n",
       "    </tr>\n",
       "    <tr>\n",
       "      <th>4</th>\n",
       "      <td>#travel  from #southstreet #lorenzos #pizza to...</td>\n",
       "    </tr>\n",
       "  </tbody>\n",
       "</table>\n",
       "</div>"
      ],
      "text/plain": [
       "                                            Hashtags\n",
       "0  RT @Bigkanvas: Its a #sufi night with #bandofb...\n",
       "1  RT @Bigkanvas: Its a #sufi night with #bandofb...\n",
       "2  Its a #sufi night with #bandofbandagi at #hard...\n",
       "3  @slash prince @kingbobbybrown  #hardrockcafé h...\n",
       "4  #travel  from #southstreet #lorenzos #pizza to..."
      ]
     },
     "execution_count": 55,
     "metadata": {},
     "output_type": "execute_result"
    }
   ],
   "source": [
    "HASHTAGS.head()"
   ]
  },
  {
   "cell_type": "code",
   "execution_count": null,
   "metadata": {},
   "outputs": [],
   "source": []
  }
 ],
 "metadata": {
  "kernelspec": {
   "display_name": "Python 2",
   "language": "python",
   "name": "python2"
  },
  "language_info": {
   "codemirror_mode": {
    "name": "ipython",
    "version": 2
   },
   "file_extension": ".py",
   "mimetype": "text/x-python",
   "name": "python",
   "nbconvert_exporter": "python",
   "pygments_lexer": "ipython2",
   "version": "2.7.12"
  }
 },
 "nbformat": 4,
 "nbformat_minor": 2
}
