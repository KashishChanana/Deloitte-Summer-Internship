{
 "cells": [
  {
   "cell_type": "code",
   "execution_count": 1,
   "metadata": {},
   "outputs": [],
   "source": [
    "import pandas as pd\n",
    "import numpy as np\n",
    "\n",
    "import nltk\n",
    "from nltk.corpus import sentiwordnet as swn\n",
    "from nltk.tokenize import word_tokenize, sent_tokenize\n",
    "from nltk import pos_tag\n",
    "from nltk.stem.wordnet import WordNetLemmatizer\n"
   ]
  },
  {
   "cell_type": "code",
   "execution_count": 2,
   "metadata": {},
   "outputs": [],
   "source": [
    "doc=\"Nice and friendly place with excellent food and friendly and helpful staff. You need a car though. The children wants to go back! Playground and animals entertained them and they felt like at home. I also recommend the dinner! Great value for the price!\"\n",
    "doc1=\"okay experience. fine\"\n",
    "doc2=\"terrible experience. bad stuff\"\n"
   ]
  },
  {
   "cell_type": "code",
   "execution_count": 3,
   "metadata": {},
   "outputs": [],
   "source": [
    "# tokenization and POS tagging\n",
    "def filteration(text):\n",
    "    sentences = nltk.sent_tokenize(text)\n",
    "    tokens = [nltk.word_tokenize(sent) for sent in sentences]\n",
    "    taggedlist=[]\n",
    "    for tok in tokens:        \n",
    "         taggedlist.append(nltk.pos_tag(tok))\n",
    "    return taggedlist"
   ]
  },
  {
   "cell_type": "code",
   "execution_count": 4,
   "metadata": {},
   "outputs": [],
   "source": [
    "wnl = nltk.WordNetLemmatizer()"
   ]
  },
  {
   "cell_type": "code",
   "execution_count": 5,
   "metadata": {},
   "outputs": [],
   "source": [
    "#for words with POS tags NN, JJ, V, R their avg polarity score is calculated as summation(positive_score)- summation(negative_score)\n",
    "#polarity of a sentence is evaluated by adding polarities of all the words in the sentence.\n",
    "#polarity of a review is brought out by adding polarities of all the sentences in the review.\n",
    "def polarity(taggedlist):\n",
    "    score_list=[]\n",
    "    for idx1,taggedsent in enumerate(taggedlist):\n",
    "        score_list.append([])\n",
    "        for idx2,t in enumerate(taggedsent):\n",
    "                newtag=''\n",
    "                lemmatized=wnl.lemmatize(t[0])\n",
    "                if t[1].startswith('NN'):\n",
    "                    newtag='n'\n",
    "                elif t[1].startswith('JJ'):\n",
    "                    newtag='a'\n",
    "                elif t[1].startswith('V'):\n",
    "                    newtag='v'\n",
    "                elif t[1].startswith('R'):\n",
    "                    newtag='r'\n",
    "                else:\n",
    "                    newtag=''       \n",
    "                if(newtag!=''):    \n",
    "                    synsets = list(swn.senti_synsets(lemmatized, newtag))\n",
    "                    #print synsets\n",
    "               \n",
    "                    score=0\n",
    "                    if(len(synsets)>0):\n",
    "                        for syn in synsets:\n",
    "                            score+=syn.pos_score()-syn.neg_score()\n",
    "                        score_list[idx1].append(score/len(synsets))\n",
    "            \n",
    "\n",
    "    #print score_list\n",
    "\n",
    "    sentence_sentiment=[]\n",
    "    for score_sent in score_list:\n",
    "        if (len(score_sent)>0):\n",
    "            sentence_sentiment.append(sum([word_score for word_score in score_sent])/len(score_sent))\n",
    "        else: continue\n",
    "    #print sentence_sentiment\n",
    "    total=0;\n",
    "    for i in sentence_sentiment:\n",
    "        total+=i;\n",
    "    return total"
   ]
  },
  {
   "cell_type": "code",
   "execution_count": 6,
   "metadata": {},
   "outputs": [],
   "source": [
    "#positive sentiment score gives a positive review, negative sentiment score gives negative review \n",
    "def sentiment(total):\n",
    "    if(total> 0):\n",
    "        rev=\"positive\"\n",
    "        r=1\n",
    "    elif(total<0):\n",
    "        rev=\"negative\"\n",
    "        r=0\n",
    "    return r"
   ]
  },
  {
   "cell_type": "code",
   "execution_count": 7,
   "metadata": {},
   "outputs": [
    {
     "data": {
      "text/html": [
       "<div>\n",
       "<style scoped>\n",
       "    .dataframe tbody tr th:only-of-type {\n",
       "        vertical-align: middle;\n",
       "    }\n",
       "\n",
       "    .dataframe tbody tr th {\n",
       "        vertical-align: top;\n",
       "    }\n",
       "\n",
       "    .dataframe thead th {\n",
       "        text-align: right;\n",
       "    }\n",
       "</style>\n",
       "<table border=\"1\" class=\"dataframe\">\n",
       "  <thead>\n",
       "    <tr style=\"text-align: right;\">\n",
       "      <th></th>\n",
       "      <th>asin</th>\n",
       "      <th>helpful</th>\n",
       "      <th>overall</th>\n",
       "      <th>reviewText</th>\n",
       "      <th>reviewTime</th>\n",
       "      <th>reviewerID</th>\n",
       "      <th>reviewerName</th>\n",
       "      <th>summary</th>\n",
       "      <th>unixReviewTime</th>\n",
       "    </tr>\n",
       "  </thead>\n",
       "  <tbody>\n",
       "    <tr>\n",
       "      <th>0</th>\n",
       "      <td>1881509818</td>\n",
       "      <td>[0, 0]</td>\n",
       "      <td>5</td>\n",
       "      <td>This came in on time and I am veru happy with ...</td>\n",
       "      <td>01 26, 2014</td>\n",
       "      <td>AIXZKN4ACSKI</td>\n",
       "      <td>David Briner</td>\n",
       "      <td>Woks very good</td>\n",
       "      <td>1390694400</td>\n",
       "    </tr>\n",
       "    <tr>\n",
       "      <th>1</th>\n",
       "      <td>1881509818</td>\n",
       "      <td>[1, 1]</td>\n",
       "      <td>5</td>\n",
       "      <td>I had a factory Glock tool that I was using fo...</td>\n",
       "      <td>02 2, 2012</td>\n",
       "      <td>A1L5P841VIO02V</td>\n",
       "      <td>Jason A. Kramer</td>\n",
       "      <td>Works as well as the factory tool</td>\n",
       "      <td>1328140800</td>\n",
       "    </tr>\n",
       "    <tr>\n",
       "      <th>2</th>\n",
       "      <td>1881509818</td>\n",
       "      <td>[2, 2]</td>\n",
       "      <td>4</td>\n",
       "      <td>If you don't have a 3/32 punch or would like t...</td>\n",
       "      <td>02 28, 2012</td>\n",
       "      <td>AB2W04NI4OEAD</td>\n",
       "      <td>J. Fernald</td>\n",
       "      <td>It's a punch, that's all.</td>\n",
       "      <td>1330387200</td>\n",
       "    </tr>\n",
       "    <tr>\n",
       "      <th>3</th>\n",
       "      <td>1881509818</td>\n",
       "      <td>[0, 0]</td>\n",
       "      <td>4</td>\n",
       "      <td>This works no better than any 3/32 punch you w...</td>\n",
       "      <td>02 5, 2012</td>\n",
       "      <td>A148SVSWKTJKU6</td>\n",
       "      <td>Jusitn A. Watts \"Maverick9614\"</td>\n",
       "      <td>It's a punch with a Glock logo.</td>\n",
       "      <td>1328400000</td>\n",
       "    </tr>\n",
       "    <tr>\n",
       "      <th>4</th>\n",
       "      <td>1881509818</td>\n",
       "      <td>[0, 0]</td>\n",
       "      <td>4</td>\n",
       "      <td>I purchased this thinking maybe I need a speci...</td>\n",
       "      <td>04 23, 2013</td>\n",
       "      <td>AAAWJ6LW9WMOO</td>\n",
       "      <td>Material Man</td>\n",
       "      <td>Ok,tool does what a regular punch does.</td>\n",
       "      <td>1366675200</td>\n",
       "    </tr>\n",
       "  </tbody>\n",
       "</table>\n",
       "</div>"
      ],
      "text/plain": [
       "         asin helpful  overall  \\\n",
       "0  1881509818  [0, 0]        5   \n",
       "1  1881509818  [1, 1]        5   \n",
       "2  1881509818  [2, 2]        4   \n",
       "3  1881509818  [0, 0]        4   \n",
       "4  1881509818  [0, 0]        4   \n",
       "\n",
       "                                          reviewText   reviewTime  \\\n",
       "0  This came in on time and I am veru happy with ...  01 26, 2014   \n",
       "1  I had a factory Glock tool that I was using fo...   02 2, 2012   \n",
       "2  If you don't have a 3/32 punch or would like t...  02 28, 2012   \n",
       "3  This works no better than any 3/32 punch you w...   02 5, 2012   \n",
       "4  I purchased this thinking maybe I need a speci...  04 23, 2013   \n",
       "\n",
       "       reviewerID                    reviewerName  \\\n",
       "0    AIXZKN4ACSKI                    David Briner   \n",
       "1  A1L5P841VIO02V                 Jason A. Kramer   \n",
       "2   AB2W04NI4OEAD                      J. Fernald   \n",
       "3  A148SVSWKTJKU6  Jusitn A. Watts \"Maverick9614\"   \n",
       "4   AAAWJ6LW9WMOO                    Material Man   \n",
       "\n",
       "                                   summary  unixReviewTime  \n",
       "0                           Woks very good      1390694400  \n",
       "1        Works as well as the factory tool      1328140800  \n",
       "2                It's a punch, that's all.      1330387200  \n",
       "3          It's a punch with a Glock logo.      1328400000  \n",
       "4  Ok,tool does what a regular punch does.      1366675200  "
      ]
     },
     "execution_count": 7,
     "metadata": {},
     "output_type": "execute_result"
    }
   ],
   "source": [
    "# dataset includes amazon sports product reviews\n",
    "data=pd.read_json('data.json', lines=True)\n",
    "data.head()"
   ]
  },
  {
   "cell_type": "code",
   "execution_count": 8,
   "metadata": {},
   "outputs": [
    {
     "data": {
      "text/plain": [
       "0"
      ]
     },
     "execution_count": 8,
     "metadata": {},
     "output_type": "execute_result"
    }
   ],
   "source": [
    "sentiment(polarity(filteration(doc2)))"
   ]
  },
  {
   "cell_type": "code",
   "execution_count": 9,
   "metadata": {},
   "outputs": [
    {
     "data": {
      "text/plain": [
       "1"
      ]
     },
     "execution_count": 9,
     "metadata": {},
     "output_type": "execute_result"
    }
   ],
   "source": [
    "sentiment(polarity(filteration(doc1)))"
   ]
  },
  {
   "cell_type": "code",
   "execution_count": 10,
   "metadata": {},
   "outputs": [
    {
     "data": {
      "text/plain": [
       "1"
      ]
     },
     "execution_count": 10,
     "metadata": {},
     "output_type": "execute_result"
    }
   ],
   "source": [
    "sentiment(polarity(filteration(doc)))"
   ]
  },
  {
   "cell_type": "code",
   "execution_count": 11,
   "metadata": {},
   "outputs": [],
   "source": [
    "data=pd.read_json('data.json', lines=True)\n",
    "data_fil=data[:100][\"reviewText\"]\n"
   ]
  },
  {
   "cell_type": "code",
   "execution_count": 12,
   "metadata": {},
   "outputs": [
    {
     "data": {
      "text/plain": [
       "0    This came in on time and I am veru happy with ...\n",
       "1    I had a factory Glock tool that I was using fo...\n",
       "2    If you don't have a 3/32 punch or would like t...\n",
       "3    This works no better than any 3/32 punch you w...\n",
       "4    I purchased this thinking maybe I need a speci...\n",
       "Name: reviewText, dtype: object"
      ]
     },
     "execution_count": 12,
     "metadata": {},
     "output_type": "execute_result"
    }
   ],
   "source": [
    "data_fil.head()"
   ]
  },
  {
   "cell_type": "code",
   "execution_count": 13,
   "metadata": {},
   "outputs": [],
   "source": [
    "a=[]\n",
    "for dat in data_fil:\n",
    "    a.append(sentiment(polarity(filteration(dat))))"
   ]
  },
  {
   "cell_type": "code",
   "execution_count": 14,
   "metadata": {},
   "outputs": [],
   "source": [
    "review=data[\"reviewText\"]"
   ]
  },
  {
   "cell_type": "code",
   "execution_count": 15,
   "metadata": {},
   "outputs": [],
   "source": [
    "rating= data[\"overall\"]"
   ]
  },
  {
   "cell_type": "code",
   "execution_count": 16,
   "metadata": {},
   "outputs": [],
   "source": [
    "reviewer_name= data[\"reviewerName\"]"
   ]
  },
  {
   "cell_type": "code",
   "execution_count": 17,
   "metadata": {},
   "outputs": [],
   "source": [
    "rev_rat=pd.DataFrame(columns=[\"review\",\"rating\",\"reviewerName\"])"
   ]
  },
  {
   "cell_type": "code",
   "execution_count": 18,
   "metadata": {},
   "outputs": [],
   "source": [
    "rev_rat[\"review\"]=review[:100]"
   ]
  },
  {
   "cell_type": "code",
   "execution_count": 19,
   "metadata": {},
   "outputs": [],
   "source": [
    "rev_rat[\"rating\"]=rating[:100]"
   ]
  },
  {
   "cell_type": "code",
   "execution_count": 20,
   "metadata": {},
   "outputs": [],
   "source": [
    "rev_rat[\"sentiment\"]=a\n",
    "rev_rat[\"reviewerName\"]=reviewer_name[:100]\n"
   ]
  },
  {
   "cell_type": "code",
   "execution_count": 21,
   "metadata": {},
   "outputs": [
    {
     "data": {
      "text/html": [
       "<div>\n",
       "<style scoped>\n",
       "    .dataframe tbody tr th:only-of-type {\n",
       "        vertical-align: middle;\n",
       "    }\n",
       "\n",
       "    .dataframe tbody tr th {\n",
       "        vertical-align: top;\n",
       "    }\n",
       "\n",
       "    .dataframe thead th {\n",
       "        text-align: right;\n",
       "    }\n",
       "</style>\n",
       "<table border=\"1\" class=\"dataframe\">\n",
       "  <thead>\n",
       "    <tr style=\"text-align: right;\">\n",
       "      <th></th>\n",
       "      <th>review</th>\n",
       "      <th>rating</th>\n",
       "      <th>reviewerName</th>\n",
       "      <th>sentiment</th>\n",
       "    </tr>\n",
       "  </thead>\n",
       "  <tbody>\n",
       "    <tr>\n",
       "      <th>0</th>\n",
       "      <td>This came in on time and I am veru happy with ...</td>\n",
       "      <td>5</td>\n",
       "      <td>David Briner</td>\n",
       "      <td>1</td>\n",
       "    </tr>\n",
       "    <tr>\n",
       "      <th>1</th>\n",
       "      <td>I had a factory Glock tool that I was using fo...</td>\n",
       "      <td>5</td>\n",
       "      <td>Jason A. Kramer</td>\n",
       "      <td>1</td>\n",
       "    </tr>\n",
       "    <tr>\n",
       "      <th>2</th>\n",
       "      <td>If you don't have a 3/32 punch or would like t...</td>\n",
       "      <td>4</td>\n",
       "      <td>J. Fernald</td>\n",
       "      <td>1</td>\n",
       "    </tr>\n",
       "    <tr>\n",
       "      <th>3</th>\n",
       "      <td>This works no better than any 3/32 punch you w...</td>\n",
       "      <td>4</td>\n",
       "      <td>Jusitn A. Watts \"Maverick9614\"</td>\n",
       "      <td>1</td>\n",
       "    </tr>\n",
       "    <tr>\n",
       "      <th>4</th>\n",
       "      <td>I purchased this thinking maybe I need a speci...</td>\n",
       "      <td>4</td>\n",
       "      <td>Material Man</td>\n",
       "      <td>0</td>\n",
       "    </tr>\n",
       "  </tbody>\n",
       "</table>\n",
       "</div>"
      ],
      "text/plain": [
       "                                              review  rating  \\\n",
       "0  This came in on time and I am veru happy with ...       5   \n",
       "1  I had a factory Glock tool that I was using fo...       5   \n",
       "2  If you don't have a 3/32 punch or would like t...       4   \n",
       "3  This works no better than any 3/32 punch you w...       4   \n",
       "4  I purchased this thinking maybe I need a speci...       4   \n",
       "\n",
       "                     reviewerName  sentiment  \n",
       "0                    David Briner          1  \n",
       "1                 Jason A. Kramer          1  \n",
       "2                      J. Fernald          1  \n",
       "3  Jusitn A. Watts \"Maverick9614\"          1  \n",
       "4                    Material Man          0  "
      ]
     },
     "execution_count": 21,
     "metadata": {},
     "output_type": "execute_result"
    }
   ],
   "source": [
    "rev_rat.head()"
   ]
  },
  {
   "cell_type": "code",
   "execution_count": 22,
   "metadata": {},
   "outputs": [
    {
     "data": {
      "text/html": [
       "<div>\n",
       "<style scoped>\n",
       "    .dataframe tbody tr th:only-of-type {\n",
       "        vertical-align: middle;\n",
       "    }\n",
       "\n",
       "    .dataframe tbody tr th {\n",
       "        vertical-align: top;\n",
       "    }\n",
       "\n",
       "    .dataframe thead th {\n",
       "        text-align: right;\n",
       "    }\n",
       "</style>\n",
       "<table border=\"1\" class=\"dataframe\">\n",
       "  <thead>\n",
       "    <tr style=\"text-align: right;\">\n",
       "      <th></th>\n",
       "      <th>review</th>\n",
       "      <th>rating</th>\n",
       "      <th>reviewerName</th>\n",
       "      <th>sentiment</th>\n",
       "    </tr>\n",
       "  </thead>\n",
       "  <tbody>\n",
       "    <tr>\n",
       "      <th>0</th>\n",
       "      <td>This came in on time and I am veru happy with ...</td>\n",
       "      <td>5</td>\n",
       "      <td>David Briner</td>\n",
       "      <td>1</td>\n",
       "    </tr>\n",
       "    <tr>\n",
       "      <th>1</th>\n",
       "      <td>I had a factory Glock tool that I was using fo...</td>\n",
       "      <td>5</td>\n",
       "      <td>Jason A. Kramer</td>\n",
       "      <td>1</td>\n",
       "    </tr>\n",
       "    <tr>\n",
       "      <th>2</th>\n",
       "      <td>If you don't have a 3/32 punch or would like t...</td>\n",
       "      <td>4</td>\n",
       "      <td>J. Fernald</td>\n",
       "      <td>1</td>\n",
       "    </tr>\n",
       "    <tr>\n",
       "      <th>3</th>\n",
       "      <td>This works no better than any 3/32 punch you w...</td>\n",
       "      <td>4</td>\n",
       "      <td>Jusitn A. Watts \"Maverick9614\"</td>\n",
       "      <td>1</td>\n",
       "    </tr>\n",
       "    <tr>\n",
       "      <th>4</th>\n",
       "      <td>I purchased this thinking maybe I need a speci...</td>\n",
       "      <td>4</td>\n",
       "      <td>Material Man</td>\n",
       "      <td>0</td>\n",
       "    </tr>\n",
       "  </tbody>\n",
       "</table>\n",
       "</div>"
      ],
      "text/plain": [
       "                                              review  rating  \\\n",
       "0  This came in on time and I am veru happy with ...       5   \n",
       "1  I had a factory Glock tool that I was using fo...       5   \n",
       "2  If you don't have a 3/32 punch or would like t...       4   \n",
       "3  This works no better than any 3/32 punch you w...       4   \n",
       "4  I purchased this thinking maybe I need a speci...       4   \n",
       "\n",
       "                     reviewerName  sentiment  \n",
       "0                    David Briner          1  \n",
       "1                 Jason A. Kramer          1  \n",
       "2                      J. Fernald          1  \n",
       "3  Jusitn A. Watts \"Maverick9614\"          1  \n",
       "4                    Material Man          0  "
      ]
     },
     "execution_count": 22,
     "metadata": {},
     "output_type": "execute_result"
    }
   ],
   "source": [
    "rev_rat.head(5)\n"
   ]
  },
  {
   "cell_type": "code",
   "execution_count": 23,
   "metadata": {},
   "outputs": [],
   "source": [
    "#taking into account reviews with rating above 3 are positive and rest are negative\n",
    "rev_rat['expected']=[1 if x>3 else 0 for x in rev_rat.rating]"
   ]
  },
  {
   "cell_type": "code",
   "execution_count": 24,
   "metadata": {},
   "outputs": [
    {
     "data": {
      "text/html": [
       "<div>\n",
       "<style scoped>\n",
       "    .dataframe tbody tr th:only-of-type {\n",
       "        vertical-align: middle;\n",
       "    }\n",
       "\n",
       "    .dataframe tbody tr th {\n",
       "        vertical-align: top;\n",
       "    }\n",
       "\n",
       "    .dataframe thead th {\n",
       "        text-align: right;\n",
       "    }\n",
       "</style>\n",
       "<table border=\"1\" class=\"dataframe\">\n",
       "  <thead>\n",
       "    <tr style=\"text-align: right;\">\n",
       "      <th></th>\n",
       "      <th>review</th>\n",
       "      <th>rating</th>\n",
       "      <th>reviewerName</th>\n",
       "      <th>sentiment</th>\n",
       "      <th>expected</th>\n",
       "    </tr>\n",
       "  </thead>\n",
       "  <tbody>\n",
       "    <tr>\n",
       "      <th>0</th>\n",
       "      <td>This came in on time and I am veru happy with ...</td>\n",
       "      <td>5</td>\n",
       "      <td>David Briner</td>\n",
       "      <td>1</td>\n",
       "      <td>1</td>\n",
       "    </tr>\n",
       "    <tr>\n",
       "      <th>1</th>\n",
       "      <td>I had a factory Glock tool that I was using fo...</td>\n",
       "      <td>5</td>\n",
       "      <td>Jason A. Kramer</td>\n",
       "      <td>1</td>\n",
       "      <td>1</td>\n",
       "    </tr>\n",
       "    <tr>\n",
       "      <th>2</th>\n",
       "      <td>If you don't have a 3/32 punch or would like t...</td>\n",
       "      <td>4</td>\n",
       "      <td>J. Fernald</td>\n",
       "      <td>1</td>\n",
       "      <td>1</td>\n",
       "    </tr>\n",
       "    <tr>\n",
       "      <th>3</th>\n",
       "      <td>This works no better than any 3/32 punch you w...</td>\n",
       "      <td>4</td>\n",
       "      <td>Jusitn A. Watts \"Maverick9614\"</td>\n",
       "      <td>1</td>\n",
       "      <td>1</td>\n",
       "    </tr>\n",
       "    <tr>\n",
       "      <th>4</th>\n",
       "      <td>I purchased this thinking maybe I need a speci...</td>\n",
       "      <td>4</td>\n",
       "      <td>Material Man</td>\n",
       "      <td>0</td>\n",
       "      <td>1</td>\n",
       "    </tr>\n",
       "  </tbody>\n",
       "</table>\n",
       "</div>"
      ],
      "text/plain": [
       "                                              review  rating  \\\n",
       "0  This came in on time and I am veru happy with ...       5   \n",
       "1  I had a factory Glock tool that I was using fo...       5   \n",
       "2  If you don't have a 3/32 punch or would like t...       4   \n",
       "3  This works no better than any 3/32 punch you w...       4   \n",
       "4  I purchased this thinking maybe I need a speci...       4   \n",
       "\n",
       "                     reviewerName  sentiment  expected  \n",
       "0                    David Briner          1         1  \n",
       "1                 Jason A. Kramer          1         1  \n",
       "2                      J. Fernald          1         1  \n",
       "3  Jusitn A. Watts \"Maverick9614\"          1         1  \n",
       "4                    Material Man          0         1  "
      ]
     },
     "execution_count": 24,
     "metadata": {},
     "output_type": "execute_result"
    }
   ],
   "source": [
    "rev_rat.head()"
   ]
  },
  {
   "cell_type": "code",
   "execution_count": 25,
   "metadata": {},
   "outputs": [],
   "source": [
    "from sklearn.metrics import accuracy_score, f1_score, confusion_matrix"
   ]
  },
  {
   "cell_type": "code",
   "execution_count": 26,
   "metadata": {},
   "outputs": [
    {
     "data": {
      "text/plain": [
       "0.85"
      ]
     },
     "execution_count": 26,
     "metadata": {},
     "output_type": "execute_result"
    }
   ],
   "source": [
    "accuracy_score(rev_rat[\"sentiment\"], rev_rat[\"expected\"])"
   ]
  },
  {
   "cell_type": "code",
   "execution_count": 27,
   "metadata": {},
   "outputs": [
    {
     "data": {
      "text/plain": [
       "array([[ 3,  8],\n",
       "       [ 7, 82]])"
      ]
     },
     "execution_count": 27,
     "metadata": {},
     "output_type": "execute_result"
    }
   ],
   "source": [
    "confusion_matrix(rev_rat[\"sentiment\"], rev_rat[\"expected\"])"
   ]
  },
  {
   "cell_type": "code",
   "execution_count": 28,
   "metadata": {},
   "outputs": [
    {
     "data": {
      "text/plain": [
       "0.9162011173184358"
      ]
     },
     "execution_count": 28,
     "metadata": {},
     "output_type": "execute_result"
    }
   ],
   "source": [
    "f1_score(rev_rat[\"sentiment\"], rev_rat[\"expected\"])"
   ]
  },
  {
   "cell_type": "code",
   "execution_count": null,
   "metadata": {},
   "outputs": [],
   "source": []
  }
 ],
 "metadata": {
  "kernelspec": {
   "display_name": "Python 2",
   "language": "python",
   "name": "python2"
  },
  "language_info": {
   "codemirror_mode": {
    "name": "ipython",
    "version": 2
   },
   "file_extension": ".py",
   "mimetype": "text/x-python",
   "name": "python",
   "nbconvert_exporter": "python",
   "pygments_lexer": "ipython2",
   "version": "2.7.12"
  }
 },
 "nbformat": 4,
 "nbformat_minor": 2
}
